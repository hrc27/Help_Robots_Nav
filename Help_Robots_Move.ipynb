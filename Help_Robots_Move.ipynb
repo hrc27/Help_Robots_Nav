{
 "cells": [
  {
   "cell_type": "markdown",
   "metadata": {},
   "source": [
    "# Imports"
   ]
  },
  {
   "cell_type": "code",
   "execution_count": 1,
   "metadata": {},
   "outputs": [
    {
     "name": "stderr",
     "output_type": "stream",
     "text": [
      "/usr/local/lib/python3.6/dist-packages/sklearn/ensemble/weight_boosting.py:29: DeprecationWarning: numpy.core.umath_tests is an internal NumPy module and should not be imported. It will be removed in a future NumPy release.\n",
      "  from numpy.core.umath_tests import inner1d\n"
     ]
    }
   ],
   "source": [
    "%matplotlib inline\n",
    "\n",
    "import warnings\n",
    "warnings.filterwarnings(\"ignore\")\n",
    "\n",
    "from pathlib import Path\n",
    "\n",
    "import numpy as np\n",
    "import pandas as pd\n",
    "from scipy import stats\n",
    "import seaborn as sns\n",
    "\n",
    "pd.set_option('display.max_columns', 40)\n",
    "\n",
    "import matplotlib.pyplot as plt\n",
    "\n",
    "from sklearn.model_selection import train_test_split\n",
    "from sklearn.ensemble import RandomForestClassifier\n",
    "from sklearn.datasets import make_classification\n",
    "from sklearn.ensemble import ExtraTreesClassifier\n",
    "from sklearn.preprocessing import StandardScaler\n",
    "\n",
    "from collections import OrderedDict\n",
    "\n",
    "from sklearn.metrics import classification_report\n",
    "from sklearn.metrics import precision_recall_fscore_support\n",
    "\n",
    "import feather\n",
    "import os\n",
    "import time\n",
    "\n",
    "from IPython.display import display"
   ]
  },
  {
   "cell_type": "code",
   "execution_count": 2,
   "metadata": {},
   "outputs": [
    {
     "name": "stdout",
     "output_type": "stream",
     "text": [
      "sample_submission.csv  X_test.csv      X_train.csv\ty_train.csv\r\n",
      "train.csv\t       X_test.csv.zip  X_train.csv.zip\r\n"
     ]
    }
   ],
   "source": [
    "!ls 'data'"
   ]
  },
  {
   "cell_type": "code",
   "execution_count": 3,
   "metadata": {},
   "outputs": [],
   "source": [
    "train_values = pd.read_csv('data/X_train.csv', index_col=0)\n",
    "train_labels = pd.read_csv('data/y_train.csv', index_col=0) \n",
    "test_values = pd.read_csv('data/X_test.csv', index_col=0)"
   ]
  },
  {
   "cell_type": "markdown",
   "metadata": {
    "heading_collapsed": true
   },
   "source": [
    "# EDA"
   ]
  },
  {
   "cell_type": "code",
   "execution_count": 4,
   "metadata": {
    "hidden": true
   },
   "outputs": [
    {
     "data": {
      "text/html": [
       "<div>\n",
       "<style scoped>\n",
       "    .dataframe tbody tr th:only-of-type {\n",
       "        vertical-align: middle;\n",
       "    }\n",
       "\n",
       "    .dataframe tbody tr th {\n",
       "        vertical-align: top;\n",
       "    }\n",
       "\n",
       "    .dataframe thead th {\n",
       "        text-align: right;\n",
       "    }\n",
       "</style>\n",
       "<table border=\"1\" class=\"dataframe\">\n",
       "  <thead>\n",
       "    <tr style=\"text-align: right;\">\n",
       "      <th></th>\n",
       "      <th>series_id</th>\n",
       "      <th>measurement_number</th>\n",
       "      <th>orientation_X</th>\n",
       "      <th>orientation_Y</th>\n",
       "      <th>orientation_Z</th>\n",
       "      <th>orientation_W</th>\n",
       "      <th>angular_velocity_X</th>\n",
       "      <th>angular_velocity_Y</th>\n",
       "      <th>angular_velocity_Z</th>\n",
       "      <th>linear_acceleration_X</th>\n",
       "      <th>linear_acceleration_Y</th>\n",
       "      <th>linear_acceleration_Z</th>\n",
       "    </tr>\n",
       "    <tr>\n",
       "      <th>row_id</th>\n",
       "      <th></th>\n",
       "      <th></th>\n",
       "      <th></th>\n",
       "      <th></th>\n",
       "      <th></th>\n",
       "      <th></th>\n",
       "      <th></th>\n",
       "      <th></th>\n",
       "      <th></th>\n",
       "      <th></th>\n",
       "      <th></th>\n",
       "      <th></th>\n",
       "    </tr>\n",
       "  </thead>\n",
       "  <tbody>\n",
       "    <tr>\n",
       "      <th>0_0</th>\n",
       "      <td>0</td>\n",
       "      <td>0</td>\n",
       "      <td>-0.75853</td>\n",
       "      <td>-0.63435</td>\n",
       "      <td>-0.10488</td>\n",
       "      <td>-0.10597</td>\n",
       "      <td>0.10765</td>\n",
       "      <td>0.017561</td>\n",
       "      <td>0.000767</td>\n",
       "      <td>-0.74857</td>\n",
       "      <td>2.103</td>\n",
       "      <td>-9.7532</td>\n",
       "    </tr>\n",
       "  </tbody>\n",
       "</table>\n",
       "</div>"
      ],
      "text/plain": [
       "        series_id  measurement_number  orientation_X  orientation_Y  \\\n",
       "row_id                                                                \n",
       "0_0             0                   0       -0.75853       -0.63435   \n",
       "\n",
       "        orientation_Z  orientation_W  angular_velocity_X  angular_velocity_Y  \\\n",
       "row_id                                                                         \n",
       "0_0          -0.10488       -0.10597             0.10765            0.017561   \n",
       "\n",
       "        angular_velocity_Z  linear_acceleration_X  linear_acceleration_Y  \\\n",
       "row_id                                                                     \n",
       "0_0               0.000767               -0.74857                  2.103   \n",
       "\n",
       "        linear_acceleration_Z  \n",
       "row_id                         \n",
       "0_0                   -9.7532  "
      ]
     },
     "execution_count": 4,
     "metadata": {},
     "output_type": "execute_result"
    }
   ],
   "source": [
    "train_values.head(1)"
   ]
  },
  {
   "cell_type": "code",
   "execution_count": 5,
   "metadata": {
    "hidden": true
   },
   "outputs": [
    {
     "data": {
      "text/html": [
       "<div>\n",
       "<style scoped>\n",
       "    .dataframe tbody tr th:only-of-type {\n",
       "        vertical-align: middle;\n",
       "    }\n",
       "\n",
       "    .dataframe tbody tr th {\n",
       "        vertical-align: top;\n",
       "    }\n",
       "\n",
       "    .dataframe thead th {\n",
       "        text-align: right;\n",
       "    }\n",
       "</style>\n",
       "<table border=\"1\" class=\"dataframe\">\n",
       "  <thead>\n",
       "    <tr style=\"text-align: right;\">\n",
       "      <th></th>\n",
       "      <th>series_id</th>\n",
       "      <th>measurement_number</th>\n",
       "      <th>orientation_X</th>\n",
       "      <th>orientation_Y</th>\n",
       "      <th>orientation_Z</th>\n",
       "      <th>orientation_W</th>\n",
       "      <th>angular_velocity_X</th>\n",
       "      <th>angular_velocity_Y</th>\n",
       "      <th>angular_velocity_Z</th>\n",
       "      <th>linear_acceleration_X</th>\n",
       "      <th>linear_acceleration_Y</th>\n",
       "      <th>linear_acceleration_Z</th>\n",
       "    </tr>\n",
       "    <tr>\n",
       "      <th>row_id</th>\n",
       "      <th></th>\n",
       "      <th></th>\n",
       "      <th></th>\n",
       "      <th></th>\n",
       "      <th></th>\n",
       "      <th></th>\n",
       "      <th></th>\n",
       "      <th></th>\n",
       "      <th></th>\n",
       "      <th></th>\n",
       "      <th></th>\n",
       "      <th></th>\n",
       "    </tr>\n",
       "  </thead>\n",
       "  <tbody>\n",
       "    <tr>\n",
       "      <th>0_0</th>\n",
       "      <td>0</td>\n",
       "      <td>0</td>\n",
       "      <td>-0.025773</td>\n",
       "      <td>-0.98864</td>\n",
       "      <td>-0.14801</td>\n",
       "      <td>0.00335</td>\n",
       "      <td>-0.006524</td>\n",
       "      <td>-0.001071</td>\n",
       "      <td>-0.02739</td>\n",
       "      <td>0.10043</td>\n",
       "      <td>4.2061</td>\n",
       "      <td>-5.5439</td>\n",
       "    </tr>\n",
       "  </tbody>\n",
       "</table>\n",
       "</div>"
      ],
      "text/plain": [
       "        series_id  measurement_number  orientation_X  orientation_Y  \\\n",
       "row_id                                                                \n",
       "0_0             0                   0      -0.025773       -0.98864   \n",
       "\n",
       "        orientation_Z  orientation_W  angular_velocity_X  angular_velocity_Y  \\\n",
       "row_id                                                                         \n",
       "0_0          -0.14801        0.00335           -0.006524           -0.001071   \n",
       "\n",
       "        angular_velocity_Z  linear_acceleration_X  linear_acceleration_Y  \\\n",
       "row_id                                                                     \n",
       "0_0               -0.02739                0.10043                 4.2061   \n",
       "\n",
       "        linear_acceleration_Z  \n",
       "row_id                         \n",
       "0_0                   -5.5439  "
      ]
     },
     "execution_count": 5,
     "metadata": {},
     "output_type": "execute_result"
    }
   ],
   "source": [
    "test_values.head(1)"
   ]
  },
  {
   "cell_type": "code",
   "execution_count": 6,
   "metadata": {
    "hidden": true
   },
   "outputs": [
    {
     "data": {
      "text/html": [
       "<div>\n",
       "<style scoped>\n",
       "    .dataframe tbody tr th:only-of-type {\n",
       "        vertical-align: middle;\n",
       "    }\n",
       "\n",
       "    .dataframe tbody tr th {\n",
       "        vertical-align: top;\n",
       "    }\n",
       "\n",
       "    .dataframe thead th {\n",
       "        text-align: right;\n",
       "    }\n",
       "</style>\n",
       "<table border=\"1\" class=\"dataframe\">\n",
       "  <thead>\n",
       "    <tr style=\"text-align: right;\">\n",
       "      <th></th>\n",
       "      <th>group_id</th>\n",
       "      <th>surface</th>\n",
       "    </tr>\n",
       "    <tr>\n",
       "      <th>series_id</th>\n",
       "      <th></th>\n",
       "      <th></th>\n",
       "    </tr>\n",
       "  </thead>\n",
       "  <tbody>\n",
       "    <tr>\n",
       "      <th>0</th>\n",
       "      <td>13</td>\n",
       "      <td>fine_concrete</td>\n",
       "    </tr>\n",
       "  </tbody>\n",
       "</table>\n",
       "</div>"
      ],
      "text/plain": [
       "           group_id        surface\n",
       "series_id                         \n",
       "0                13  fine_concrete"
      ]
     },
     "execution_count": 6,
     "metadata": {},
     "output_type": "execute_result"
    }
   ],
   "source": [
    "train_labels.head(1)"
   ]
  },
  {
   "cell_type": "code",
   "execution_count": 7,
   "metadata": {
    "hidden": true
   },
   "outputs": [
    {
     "data": {
      "text/plain": [
       "series_id                  int64\n",
       "measurement_number         int64\n",
       "orientation_X            float64\n",
       "orientation_Y            float64\n",
       "orientation_Z            float64\n",
       "orientation_W            float64\n",
       "angular_velocity_X       float64\n",
       "angular_velocity_Y       float64\n",
       "angular_velocity_Z       float64\n",
       "linear_acceleration_X    float64\n",
       "linear_acceleration_Y    float64\n",
       "linear_acceleration_Z    float64\n",
       "dtype: object"
      ]
     },
     "execution_count": 7,
     "metadata": {},
     "output_type": "execute_result"
    }
   ],
   "source": [
    "train_values.dtypes"
   ]
  },
  {
   "cell_type": "code",
   "execution_count": 8,
   "metadata": {
    "hidden": true
   },
   "outputs": [
    {
     "data": {
      "text/plain": [
       "series_id                  int64\n",
       "measurement_number         int64\n",
       "orientation_X            float64\n",
       "orientation_Y            float64\n",
       "orientation_Z            float64\n",
       "orientation_W            float64\n",
       "angular_velocity_X       float64\n",
       "angular_velocity_Y       float64\n",
       "angular_velocity_Z       float64\n",
       "linear_acceleration_X    float64\n",
       "linear_acceleration_Y    float64\n",
       "linear_acceleration_Z    float64\n",
       "dtype: object"
      ]
     },
     "execution_count": 8,
     "metadata": {},
     "output_type": "execute_result"
    }
   ],
   "source": [
    "test_values.dtypes"
   ]
  },
  {
   "cell_type": "code",
   "execution_count": 9,
   "metadata": {
    "hidden": true
   },
   "outputs": [
    {
     "data": {
      "text/plain": [
       "group_id     int64\n",
       "surface     object\n",
       "dtype: object"
      ]
     },
     "execution_count": 9,
     "metadata": {},
     "output_type": "execute_result"
    }
   ],
   "source": [
    "train_labels.dtypes"
   ]
  },
  {
   "cell_type": "code",
   "execution_count": 10,
   "metadata": {
    "hidden": true
   },
   "outputs": [
    {
     "data": {
      "text/html": [
       "<div>\n",
       "<style scoped>\n",
       "    .dataframe tbody tr th:only-of-type {\n",
       "        vertical-align: middle;\n",
       "    }\n",
       "\n",
       "    .dataframe tbody tr th {\n",
       "        vertical-align: top;\n",
       "    }\n",
       "\n",
       "    .dataframe thead th {\n",
       "        text-align: right;\n",
       "    }\n",
       "</style>\n",
       "<table border=\"1\" class=\"dataframe\">\n",
       "  <thead>\n",
       "    <tr style=\"text-align: right;\">\n",
       "      <th></th>\n",
       "      <th>series_id</th>\n",
       "      <th>measurement_number</th>\n",
       "      <th>orientation_X</th>\n",
       "      <th>orientation_Y</th>\n",
       "      <th>orientation_Z</th>\n",
       "      <th>orientation_W</th>\n",
       "      <th>angular_velocity_X</th>\n",
       "      <th>angular_velocity_Y</th>\n",
       "      <th>angular_velocity_Z</th>\n",
       "      <th>linear_acceleration_X</th>\n",
       "      <th>linear_acceleration_Y</th>\n",
       "      <th>linear_acceleration_Z</th>\n",
       "    </tr>\n",
       "  </thead>\n",
       "  <tbody>\n",
       "    <tr>\n",
       "      <th>count</th>\n",
       "      <td>487680.000000</td>\n",
       "      <td>487680.000000</td>\n",
       "      <td>487680.000000</td>\n",
       "      <td>487680.000000</td>\n",
       "      <td>487680.000000</td>\n",
       "      <td>487680.000000</td>\n",
       "      <td>487680.000000</td>\n",
       "      <td>487680.000000</td>\n",
       "      <td>487680.000000</td>\n",
       "      <td>487680.000000</td>\n",
       "      <td>487680.000000</td>\n",
       "      <td>487680.000000</td>\n",
       "    </tr>\n",
       "    <tr>\n",
       "      <th>mean</th>\n",
       "      <td>1904.500000</td>\n",
       "      <td>63.500000</td>\n",
       "      <td>-0.018050</td>\n",
       "      <td>0.075062</td>\n",
       "      <td>0.012458</td>\n",
       "      <td>-0.003804</td>\n",
       "      <td>0.000178</td>\n",
       "      <td>0.008338</td>\n",
       "      <td>-0.019184</td>\n",
       "      <td>0.129281</td>\n",
       "      <td>2.886468</td>\n",
       "      <td>-9.364886</td>\n",
       "    </tr>\n",
       "    <tr>\n",
       "      <th>std</th>\n",
       "      <td>1099.853353</td>\n",
       "      <td>36.949327</td>\n",
       "      <td>0.685696</td>\n",
       "      <td>0.708226</td>\n",
       "      <td>0.105972</td>\n",
       "      <td>0.104299</td>\n",
       "      <td>0.117764</td>\n",
       "      <td>0.088677</td>\n",
       "      <td>0.229153</td>\n",
       "      <td>1.870600</td>\n",
       "      <td>2.140067</td>\n",
       "      <td>2.845341</td>\n",
       "    </tr>\n",
       "    <tr>\n",
       "      <th>min</th>\n",
       "      <td>0.000000</td>\n",
       "      <td>0.000000</td>\n",
       "      <td>-0.989100</td>\n",
       "      <td>-0.989650</td>\n",
       "      <td>-0.162830</td>\n",
       "      <td>-0.156620</td>\n",
       "      <td>-2.371000</td>\n",
       "      <td>-0.927860</td>\n",
       "      <td>-1.268800</td>\n",
       "      <td>-36.067000</td>\n",
       "      <td>-121.490000</td>\n",
       "      <td>-75.386000</td>\n",
       "    </tr>\n",
       "    <tr>\n",
       "      <th>25%</th>\n",
       "      <td>952.000000</td>\n",
       "      <td>31.750000</td>\n",
       "      <td>-0.705120</td>\n",
       "      <td>-0.688980</td>\n",
       "      <td>-0.089466</td>\n",
       "      <td>-0.106060</td>\n",
       "      <td>-0.040752</td>\n",
       "      <td>-0.033191</td>\n",
       "      <td>-0.090743</td>\n",
       "      <td>-0.530833</td>\n",
       "      <td>1.957900</td>\n",
       "      <td>-10.193000</td>\n",
       "    </tr>\n",
       "    <tr>\n",
       "      <th>50%</th>\n",
       "      <td>1904.500000</td>\n",
       "      <td>63.500000</td>\n",
       "      <td>-0.105960</td>\n",
       "      <td>0.237855</td>\n",
       "      <td>0.031949</td>\n",
       "      <td>-0.018704</td>\n",
       "      <td>0.000084</td>\n",
       "      <td>0.005412</td>\n",
       "      <td>-0.005335</td>\n",
       "      <td>0.124980</td>\n",
       "      <td>2.879600</td>\n",
       "      <td>-9.365300</td>\n",
       "    </tr>\n",
       "    <tr>\n",
       "      <th>75%</th>\n",
       "      <td>2857.000000</td>\n",
       "      <td>95.250000</td>\n",
       "      <td>0.651803</td>\n",
       "      <td>0.809550</td>\n",
       "      <td>0.122870</td>\n",
       "      <td>0.097215</td>\n",
       "      <td>0.040527</td>\n",
       "      <td>0.048068</td>\n",
       "      <td>0.064604</td>\n",
       "      <td>0.792263</td>\n",
       "      <td>3.798800</td>\n",
       "      <td>-8.522700</td>\n",
       "    </tr>\n",
       "    <tr>\n",
       "      <th>max</th>\n",
       "      <td>3809.000000</td>\n",
       "      <td>127.000000</td>\n",
       "      <td>0.989100</td>\n",
       "      <td>0.988980</td>\n",
       "      <td>0.155710</td>\n",
       "      <td>0.154770</td>\n",
       "      <td>2.282200</td>\n",
       "      <td>1.079100</td>\n",
       "      <td>1.387300</td>\n",
       "      <td>36.797000</td>\n",
       "      <td>73.008000</td>\n",
       "      <td>65.839000</td>\n",
       "    </tr>\n",
       "  </tbody>\n",
       "</table>\n",
       "</div>"
      ],
      "text/plain": [
       "           series_id  measurement_number  orientation_X  orientation_Y  \\\n",
       "count  487680.000000       487680.000000  487680.000000  487680.000000   \n",
       "mean     1904.500000           63.500000      -0.018050       0.075062   \n",
       "std      1099.853353           36.949327       0.685696       0.708226   \n",
       "min         0.000000            0.000000      -0.989100      -0.989650   \n",
       "25%       952.000000           31.750000      -0.705120      -0.688980   \n",
       "50%      1904.500000           63.500000      -0.105960       0.237855   \n",
       "75%      2857.000000           95.250000       0.651803       0.809550   \n",
       "max      3809.000000          127.000000       0.989100       0.988980   \n",
       "\n",
       "       orientation_Z  orientation_W  angular_velocity_X  angular_velocity_Y  \\\n",
       "count  487680.000000  487680.000000       487680.000000       487680.000000   \n",
       "mean        0.012458      -0.003804            0.000178            0.008338   \n",
       "std         0.105972       0.104299            0.117764            0.088677   \n",
       "min        -0.162830      -0.156620           -2.371000           -0.927860   \n",
       "25%        -0.089466      -0.106060           -0.040752           -0.033191   \n",
       "50%         0.031949      -0.018704            0.000084            0.005412   \n",
       "75%         0.122870       0.097215            0.040527            0.048068   \n",
       "max         0.155710       0.154770            2.282200            1.079100   \n",
       "\n",
       "       angular_velocity_Z  linear_acceleration_X  linear_acceleration_Y  \\\n",
       "count       487680.000000          487680.000000          487680.000000   \n",
       "mean            -0.019184               0.129281               2.886468   \n",
       "std              0.229153               1.870600               2.140067   \n",
       "min             -1.268800             -36.067000            -121.490000   \n",
       "25%             -0.090743              -0.530833               1.957900   \n",
       "50%             -0.005335               0.124980               2.879600   \n",
       "75%              0.064604               0.792263               3.798800   \n",
       "max              1.387300              36.797000              73.008000   \n",
       "\n",
       "       linear_acceleration_Z  \n",
       "count          487680.000000  \n",
       "mean               -9.364886  \n",
       "std                 2.845341  \n",
       "min               -75.386000  \n",
       "25%               -10.193000  \n",
       "50%                -9.365300  \n",
       "75%                -8.522700  \n",
       "max                65.839000  "
      ]
     },
     "execution_count": 10,
     "metadata": {},
     "output_type": "execute_result"
    }
   ],
   "source": [
    "train_values.describe()"
   ]
  },
  {
   "cell_type": "markdown",
   "metadata": {
    "hidden": true
   },
   "source": [
    "Conclusion: The training set contains 3810 series, and each series has 128 observations"
   ]
  },
  {
   "cell_type": "code",
   "execution_count": 11,
   "metadata": {
    "hidden": true
   },
   "outputs": [
    {
     "data": {
      "text/html": [
       "<div>\n",
       "<style scoped>\n",
       "    .dataframe tbody tr th:only-of-type {\n",
       "        vertical-align: middle;\n",
       "    }\n",
       "\n",
       "    .dataframe tbody tr th {\n",
       "        vertical-align: top;\n",
       "    }\n",
       "\n",
       "    .dataframe thead th {\n",
       "        text-align: right;\n",
       "    }\n",
       "</style>\n",
       "<table border=\"1\" class=\"dataframe\">\n",
       "  <thead>\n",
       "    <tr style=\"text-align: right;\">\n",
       "      <th></th>\n",
       "      <th>series_id</th>\n",
       "      <th>measurement_number</th>\n",
       "      <th>orientation_X</th>\n",
       "      <th>orientation_Y</th>\n",
       "      <th>orientation_Z</th>\n",
       "      <th>orientation_W</th>\n",
       "      <th>angular_velocity_X</th>\n",
       "      <th>angular_velocity_Y</th>\n",
       "      <th>angular_velocity_Z</th>\n",
       "      <th>linear_acceleration_X</th>\n",
       "      <th>linear_acceleration_Y</th>\n",
       "      <th>linear_acceleration_Z</th>\n",
       "    </tr>\n",
       "  </thead>\n",
       "  <tbody>\n",
       "    <tr>\n",
       "      <th>count</th>\n",
       "      <td>488448.000000</td>\n",
       "      <td>488448.000000</td>\n",
       "      <td>488448.000000</td>\n",
       "      <td>488448.000000</td>\n",
       "      <td>488448.000000</td>\n",
       "      <td>488448.000000</td>\n",
       "      <td>488448.000000</td>\n",
       "      <td>488448.000000</td>\n",
       "      <td>488448.000000</td>\n",
       "      <td>488448.000000</td>\n",
       "      <td>488448.000000</td>\n",
       "      <td>488448.000000</td>\n",
       "    </tr>\n",
       "    <tr>\n",
       "      <th>mean</th>\n",
       "      <td>1907.500000</td>\n",
       "      <td>63.500000</td>\n",
       "      <td>0.031996</td>\n",
       "      <td>0.120651</td>\n",
       "      <td>0.018735</td>\n",
       "      <td>0.004024</td>\n",
       "      <td>0.000401</td>\n",
       "      <td>0.013669</td>\n",
       "      <td>-0.036101</td>\n",
       "      <td>0.125433</td>\n",
       "      <td>2.906588</td>\n",
       "      <td>-9.359811</td>\n",
       "    </tr>\n",
       "    <tr>\n",
       "      <th>std</th>\n",
       "      <td>1101.585403</td>\n",
       "      <td>36.949327</td>\n",
       "      <td>0.671977</td>\n",
       "      <td>0.714522</td>\n",
       "      <td>0.108481</td>\n",
       "      <td>0.100957</td>\n",
       "      <td>0.114485</td>\n",
       "      <td>0.089440</td>\n",
       "      <td>0.233791</td>\n",
       "      <td>1.832639</td>\n",
       "      <td>2.094727</td>\n",
       "      <td>2.802670</td>\n",
       "    </tr>\n",
       "    <tr>\n",
       "      <th>min</th>\n",
       "      <td>0.000000</td>\n",
       "      <td>0.000000</td>\n",
       "      <td>-0.989720</td>\n",
       "      <td>-0.989810</td>\n",
       "      <td>-0.154680</td>\n",
       "      <td>-0.156270</td>\n",
       "      <td>-2.403300</td>\n",
       "      <td>-1.193000</td>\n",
       "      <td>-1.458200</td>\n",
       "      <td>-35.040000</td>\n",
       "      <td>-107.480000</td>\n",
       "      <td>-83.173000</td>\n",
       "    </tr>\n",
       "    <tr>\n",
       "      <th>25%</th>\n",
       "      <td>953.750000</td>\n",
       "      <td>31.750000</td>\n",
       "      <td>-0.648130</td>\n",
       "      <td>-0.744503</td>\n",
       "      <td>-0.112660</td>\n",
       "      <td>-0.098435</td>\n",
       "      <td>-0.037396</td>\n",
       "      <td>-0.029865</td>\n",
       "      <td>-0.089842</td>\n",
       "      <td>-0.486233</td>\n",
       "      <td>2.052100</td>\n",
       "      <td>-10.125000</td>\n",
       "    </tr>\n",
       "    <tr>\n",
       "      <th>50%</th>\n",
       "      <td>1907.500000</td>\n",
       "      <td>63.500000</td>\n",
       "      <td>0.132910</td>\n",
       "      <td>0.397860</td>\n",
       "      <td>0.057271</td>\n",
       "      <td>0.022654</td>\n",
       "      <td>0.001107</td>\n",
       "      <td>0.007276</td>\n",
       "      <td>-0.008911</td>\n",
       "      <td>0.112490</td>\n",
       "      <td>2.900300</td>\n",
       "      <td>-9.361700</td>\n",
       "    </tr>\n",
       "    <tr>\n",
       "      <th>75%</th>\n",
       "      <td>2861.250000</td>\n",
       "      <td>95.250000</td>\n",
       "      <td>0.575270</td>\n",
       "      <td>0.803600</td>\n",
       "      <td>0.124770</td>\n",
       "      <td>0.083706</td>\n",
       "      <td>0.037827</td>\n",
       "      <td>0.051112</td>\n",
       "      <td>0.057876</td>\n",
       "      <td>0.727250</td>\n",
       "      <td>3.758000</td>\n",
       "      <td>-8.582075</td>\n",
       "    </tr>\n",
       "    <tr>\n",
       "      <th>max</th>\n",
       "      <td>3815.000000</td>\n",
       "      <td>127.000000</td>\n",
       "      <td>0.989320</td>\n",
       "      <td>0.988940</td>\n",
       "      <td>0.154250</td>\n",
       "      <td>0.152510</td>\n",
       "      <td>3.396600</td>\n",
       "      <td>1.150700</td>\n",
       "      <td>0.960280</td>\n",
       "      <td>36.628000</td>\n",
       "      <td>55.624000</td>\n",
       "      <td>59.633000</td>\n",
       "    </tr>\n",
       "  </tbody>\n",
       "</table>\n",
       "</div>"
      ],
      "text/plain": [
       "           series_id  measurement_number  orientation_X  orientation_Y  \\\n",
       "count  488448.000000       488448.000000  488448.000000  488448.000000   \n",
       "mean     1907.500000           63.500000       0.031996       0.120651   \n",
       "std      1101.585403           36.949327       0.671977       0.714522   \n",
       "min         0.000000            0.000000      -0.989720      -0.989810   \n",
       "25%       953.750000           31.750000      -0.648130      -0.744503   \n",
       "50%      1907.500000           63.500000       0.132910       0.397860   \n",
       "75%      2861.250000           95.250000       0.575270       0.803600   \n",
       "max      3815.000000          127.000000       0.989320       0.988940   \n",
       "\n",
       "       orientation_Z  orientation_W  angular_velocity_X  angular_velocity_Y  \\\n",
       "count  488448.000000  488448.000000       488448.000000       488448.000000   \n",
       "mean        0.018735       0.004024            0.000401            0.013669   \n",
       "std         0.108481       0.100957            0.114485            0.089440   \n",
       "min        -0.154680      -0.156270           -2.403300           -1.193000   \n",
       "25%        -0.112660      -0.098435           -0.037396           -0.029865   \n",
       "50%         0.057271       0.022654            0.001107            0.007276   \n",
       "75%         0.124770       0.083706            0.037827            0.051112   \n",
       "max         0.154250       0.152510            3.396600            1.150700   \n",
       "\n",
       "       angular_velocity_Z  linear_acceleration_X  linear_acceleration_Y  \\\n",
       "count       488448.000000          488448.000000          488448.000000   \n",
       "mean            -0.036101               0.125433               2.906588   \n",
       "std              0.233791               1.832639               2.094727   \n",
       "min             -1.458200             -35.040000            -107.480000   \n",
       "25%             -0.089842              -0.486233               2.052100   \n",
       "50%             -0.008911               0.112490               2.900300   \n",
       "75%              0.057876               0.727250               3.758000   \n",
       "max              0.960280              36.628000              55.624000   \n",
       "\n",
       "       linear_acceleration_Z  \n",
       "count          488448.000000  \n",
       "mean               -9.359811  \n",
       "std                 2.802670  \n",
       "min               -83.173000  \n",
       "25%               -10.125000  \n",
       "50%                -9.361700  \n",
       "75%                -8.582075  \n",
       "max                59.633000  "
      ]
     },
     "execution_count": 11,
     "metadata": {},
     "output_type": "execute_result"
    }
   ],
   "source": [
    "test_values.describe()"
   ]
  },
  {
   "cell_type": "markdown",
   "metadata": {
    "hidden": true
   },
   "source": [
    "Conclusion: The test set contains 3815 series, each with 128 observations"
   ]
  },
  {
   "cell_type": "markdown",
   "metadata": {
    "hidden": true
   },
   "source": [
    "At a glance, the values in the train and test sets do not appear hugely different - although it's difficult to say"
   ]
  },
  {
   "cell_type": "markdown",
   "metadata": {
    "hidden": true
   },
   "source": [
    "What I can glean is that the variance in linear_acceleration is an order of magnitude larger than in the other categories "
   ]
  },
  {
   "cell_type": "markdown",
   "metadata": {
    "hidden": true
   },
   "source": [
    "In addition, the maximum and minimums for linear_acceleration_Y and linear_acceleration_Z are much much larger than in any other category"
   ]
  },
  {
   "cell_type": "markdown",
   "metadata": {
    "heading_collapsed": true,
    "hidden": true
   },
   "source": [
    "## Nans"
   ]
  },
  {
   "cell_type": "code",
   "execution_count": 12,
   "metadata": {
    "hidden": true
   },
   "outputs": [],
   "source": [
    "def null_count(df):\n",
    "    df_missing = df.isnull()\n",
    "    for column in df_missing.columns.values:\n",
    "        print(column)\n",
    "        print(df_missing[column].value_counts())\n",
    "        print(\"\")"
   ]
  },
  {
   "cell_type": "code",
   "execution_count": 13,
   "metadata": {
    "hidden": true
   },
   "outputs": [
    {
     "name": "stdout",
     "output_type": "stream",
     "text": [
      "series_id\n",
      "False    487680\n",
      "Name: series_id, dtype: int64\n",
      "\n",
      "measurement_number\n",
      "False    487680\n",
      "Name: measurement_number, dtype: int64\n",
      "\n",
      "orientation_X\n",
      "False    487680\n",
      "Name: orientation_X, dtype: int64\n",
      "\n",
      "orientation_Y\n",
      "False    487680\n",
      "Name: orientation_Y, dtype: int64\n",
      "\n",
      "orientation_Z\n",
      "False    487680\n",
      "Name: orientation_Z, dtype: int64\n",
      "\n",
      "orientation_W\n",
      "False    487680\n",
      "Name: orientation_W, dtype: int64\n",
      "\n",
      "angular_velocity_X\n",
      "False    487680\n",
      "Name: angular_velocity_X, dtype: int64\n",
      "\n",
      "angular_velocity_Y\n",
      "False    487680\n",
      "Name: angular_velocity_Y, dtype: int64\n",
      "\n",
      "angular_velocity_Z\n",
      "False    487680\n",
      "Name: angular_velocity_Z, dtype: int64\n",
      "\n",
      "linear_acceleration_X\n",
      "False    487680\n",
      "Name: linear_acceleration_X, dtype: int64\n",
      "\n",
      "linear_acceleration_Y\n",
      "False    487680\n",
      "Name: linear_acceleration_Y, dtype: int64\n",
      "\n",
      "linear_acceleration_Z\n",
      "False    487680\n",
      "Name: linear_acceleration_Z, dtype: int64\n",
      "\n"
     ]
    }
   ],
   "source": [
    "null_count(train_values)"
   ]
  },
  {
   "cell_type": "code",
   "execution_count": 14,
   "metadata": {
    "hidden": true
   },
   "outputs": [
    {
     "name": "stdout",
     "output_type": "stream",
     "text": [
      "series_id\n",
      "False    488448\n",
      "Name: series_id, dtype: int64\n",
      "\n",
      "measurement_number\n",
      "False    488448\n",
      "Name: measurement_number, dtype: int64\n",
      "\n",
      "orientation_X\n",
      "False    488448\n",
      "Name: orientation_X, dtype: int64\n",
      "\n",
      "orientation_Y\n",
      "False    488448\n",
      "Name: orientation_Y, dtype: int64\n",
      "\n",
      "orientation_Z\n",
      "False    488448\n",
      "Name: orientation_Z, dtype: int64\n",
      "\n",
      "orientation_W\n",
      "False    488448\n",
      "Name: orientation_W, dtype: int64\n",
      "\n",
      "angular_velocity_X\n",
      "False    488448\n",
      "Name: angular_velocity_X, dtype: int64\n",
      "\n",
      "angular_velocity_Y\n",
      "False    488448\n",
      "Name: angular_velocity_Y, dtype: int64\n",
      "\n",
      "angular_velocity_Z\n",
      "False    488448\n",
      "Name: angular_velocity_Z, dtype: int64\n",
      "\n",
      "linear_acceleration_X\n",
      "False    488448\n",
      "Name: linear_acceleration_X, dtype: int64\n",
      "\n",
      "linear_acceleration_Y\n",
      "False    488448\n",
      "Name: linear_acceleration_Y, dtype: int64\n",
      "\n",
      "linear_acceleration_Z\n",
      "False    488448\n",
      "Name: linear_acceleration_Z, dtype: int64\n",
      "\n"
     ]
    }
   ],
   "source": [
    "null_count(test_values)"
   ]
  },
  {
   "cell_type": "code",
   "execution_count": 15,
   "metadata": {
    "hidden": true
   },
   "outputs": [
    {
     "name": "stdout",
     "output_type": "stream",
     "text": [
      "group_id\n",
      "False    3810\n",
      "Name: group_id, dtype: int64\n",
      "\n",
      "surface\n",
      "False    3810\n",
      "Name: surface, dtype: int64\n",
      "\n"
     ]
    }
   ],
   "source": [
    "null_count(train_labels)"
   ]
  },
  {
   "cell_type": "markdown",
   "metadata": {
    "hidden": true
   },
   "source": [
    "Conclusion: No null values in any of the DataFrames"
   ]
  },
  {
   "cell_type": "markdown",
   "metadata": {
    "heading_collapsed": true,
    "hidden": true
   },
   "source": [
    "## Correlations"
   ]
  },
  {
   "cell_type": "code",
   "execution_count": 16,
   "metadata": {
    "hidden": true
   },
   "outputs": [],
   "source": [
    "train_corr = train_values.corr()"
   ]
  },
  {
   "cell_type": "code",
   "execution_count": 17,
   "metadata": {
    "hidden": true
   },
   "outputs": [
    {
     "data": {
      "text/plain": [
       "<matplotlib.axes._subplots.AxesSubplot at 0x7f54eb676a90>"
      ]
     },
     "execution_count": 17,
     "metadata": {},
     "output_type": "execute_result"
    },
    {
     "data": {
      "image/png": "[encoded data removed]",
      "text/plain": [
       "<Figure size 432x288 with 2 Axes>"
      ]
     },
     "metadata": {
      "needs_background": "light"
     },
     "output_type": "display_data"
    }
   ],
   "source": [
    "sns.heatmap(train_corr,\n",
    "           xticklabels=train_corr.columns,\n",
    "           yticklabels=train_corr.columns,\n",
    "           cmap = 'RdBu')"
   ]
  },
  {
   "cell_type": "markdown",
   "metadata": {
    "hidden": true
   },
   "source": [
    "Conclusions:  \n",
    "-orientation_X and orientation_W are completely correlated  \n",
    "-other orientations have slight negative correlation  \n",
    "-Uncertain correlations between angular_velocity_Z and all the orientations\n",
    "-angular_velocity_Y and angular_velocity_Z are strongly negatively correlated  \n",
    "-linear_acceleration_Y and linear_acceleration_Z are slightly correlations"
   ]
  },
  {
   "cell_type": "code",
   "execution_count": 18,
   "metadata": {
    "hidden": true
   },
   "outputs": [
    {
     "data": {
      "text/plain": [
       "<matplotlib.axes._subplots.AxesSubplot at 0x7f54eb351908>"
      ]
     },
     "execution_count": 18,
     "metadata": {},
     "output_type": "execute_result"
    },
    {
     "data": {
      "image/png": "[encoded data removed]",
      "text/plain": [
       "<Figure size 432x288 with 2 Axes>"
      ]
     },
     "metadata": {
      "needs_background": "light"
     },
     "output_type": "display_data"
    }
   ],
   "source": [
    "test_corr = test_values.corr()\n",
    "sns.heatmap(test_corr,\n",
    "           xticklabels=test_corr.columns,\n",
    "           yticklabels=test_corr.columns,\n",
    "           cmap='RdBu')"
   ]
  },
  {
   "cell_type": "markdown",
   "metadata": {
    "hidden": true
   },
   "source": [
    "Conclusions:  \n",
    "-very similar to the train_set  \n",
    "-only major differnce is reduced correlation between orientation_X and orientation_Y/orientation_Z  \n",
    "-And perhaps angular_velocity_Y is now negatively correlated with Orientations"
   ]
  },
  {
   "cell_type": "markdown",
   "metadata": {
    "heading_collapsed": true,
    "hidden": true
   },
   "source": [
    "## Label Distribution"
   ]
  },
  {
   "cell_type": "code",
   "execution_count": 19,
   "metadata": {
    "hidden": true
   },
   "outputs": [
    {
     "data": {
      "text/html": [
       "<div>\n",
       "<style scoped>\n",
       "    .dataframe tbody tr th:only-of-type {\n",
       "        vertical-align: middle;\n",
       "    }\n",
       "\n",
       "    .dataframe tbody tr th {\n",
       "        vertical-align: top;\n",
       "    }\n",
       "\n",
       "    .dataframe thead th {\n",
       "        text-align: right;\n",
       "    }\n",
       "</style>\n",
       "<table border=\"1\" class=\"dataframe\">\n",
       "  <thead>\n",
       "    <tr style=\"text-align: right;\">\n",
       "      <th></th>\n",
       "      <th>surface</th>\n",
       "    </tr>\n",
       "  </thead>\n",
       "  <tbody>\n",
       "    <tr>\n",
       "      <th>count</th>\n",
       "      <td>3810</td>\n",
       "    </tr>\n",
       "    <tr>\n",
       "      <th>unique</th>\n",
       "      <td>9</td>\n",
       "    </tr>\n",
       "    <tr>\n",
       "      <th>top</th>\n",
       "      <td>concrete</td>\n",
       "    </tr>\n",
       "    <tr>\n",
       "      <th>freq</th>\n",
       "      <td>779</td>\n",
       "    </tr>\n",
       "  </tbody>\n",
       "</table>\n",
       "</div>"
      ],
      "text/plain": [
       "         surface\n",
       "count       3810\n",
       "unique         9\n",
       "top     concrete\n",
       "freq         779"
      ]
     },
     "execution_count": 19,
     "metadata": {},
     "output_type": "execute_result"
    }
   ],
   "source": [
    "train_labels.describe(include=object)"
   ]
  },
  {
   "cell_type": "code",
   "execution_count": 20,
   "metadata": {
    "hidden": true
   },
   "outputs": [
    {
     "data": {
      "text/html": [
       "<div>\n",
       "<style scoped>\n",
       "    .dataframe tbody tr th:only-of-type {\n",
       "        vertical-align: middle;\n",
       "    }\n",
       "\n",
       "    .dataframe tbody tr th {\n",
       "        vertical-align: top;\n",
       "    }\n",
       "\n",
       "    .dataframe thead th {\n",
       "        text-align: right;\n",
       "    }\n",
       "</style>\n",
       "<table border=\"1\" class=\"dataframe\">\n",
       "  <thead>\n",
       "    <tr style=\"text-align: right;\">\n",
       "      <th></th>\n",
       "      <th>group_id</th>\n",
       "      <th>surface</th>\n",
       "    </tr>\n",
       "    <tr>\n",
       "      <th>series_id</th>\n",
       "      <th></th>\n",
       "      <th></th>\n",
       "    </tr>\n",
       "  </thead>\n",
       "  <tbody>\n",
       "    <tr>\n",
       "      <th>0</th>\n",
       "      <td>13</td>\n",
       "      <td>fine_concrete</td>\n",
       "    </tr>\n",
       "    <tr>\n",
       "      <th>1</th>\n",
       "      <td>31</td>\n",
       "      <td>concrete</td>\n",
       "    </tr>\n",
       "    <tr>\n",
       "      <th>2</th>\n",
       "      <td>20</td>\n",
       "      <td>concrete</td>\n",
       "    </tr>\n",
       "    <tr>\n",
       "      <th>3</th>\n",
       "      <td>31</td>\n",
       "      <td>concrete</td>\n",
       "    </tr>\n",
       "    <tr>\n",
       "      <th>4</th>\n",
       "      <td>22</td>\n",
       "      <td>soft_tiles</td>\n",
       "    </tr>\n",
       "  </tbody>\n",
       "</table>\n",
       "</div>"
      ],
      "text/plain": [
       "           group_id        surface\n",
       "series_id                         \n",
       "0                13  fine_concrete\n",
       "1                31       concrete\n",
       "2                20       concrete\n",
       "3                31       concrete\n",
       "4                22     soft_tiles"
      ]
     },
     "execution_count": 20,
     "metadata": {},
     "output_type": "execute_result"
    }
   ],
   "source": [
    "train_labels.head(5)"
   ]
  },
  {
   "cell_type": "code",
   "execution_count": 21,
   "metadata": {
    "hidden": true
   },
   "outputs": [
    {
     "data": {
      "text/plain": [
       "concrete                  779\n",
       "soft_pvc                  732\n",
       "wood                      607\n",
       "tiled                     514\n",
       "fine_concrete             363\n",
       "hard_tiles_large_space    308\n",
       "soft_tiles                297\n",
       "carpet                    189\n",
       "hard_tiles                 21\n",
       "Name: surface, dtype: int64"
      ]
     },
     "execution_count": 21,
     "metadata": {},
     "output_type": "execute_result"
    }
   ],
   "source": [
    "train_labels['surface'].value_counts()"
   ]
  },
  {
   "cell_type": "code",
   "execution_count": 25,
   "metadata": {
    "hidden": true
   },
   "outputs": [
    {
     "data": {
      "text/plain": [
       "concrete                  0.204462\n",
       "soft_pvc                  0.192126\n",
       "wood                      0.159318\n",
       "tiled                     0.134908\n",
       "fine_concrete             0.095276\n",
       "hard_tiles_large_space    0.080840\n",
       "soft_tiles                0.077953\n",
       "carpet                    0.049606\n",
       "hard_tiles                0.005512\n",
       "Name: surface, dtype: float64"
      ]
     },
     "execution_count": 25,
     "metadata": {},
     "output_type": "execute_result"
    }
   ],
   "source": [
    "train_labels['surface'].value_counts()/train_labels['surface'].value_counts().sum()"
   ]
  },
  {
   "cell_type": "markdown",
   "metadata": {
    "hidden": true
   },
   "source": [
    "Conclusion - Concrete is the most popular, although soft_pvc is close behind - hard_tiles are exceptionally uncommon"
   ]
  },
  {
   "cell_type": "markdown",
   "metadata": {
    "hidden": true
   },
   "source": [
    "## Concatenate Data"
   ]
  },
  {
   "cell_type": "markdown",
   "metadata": {
    "hidden": true
   },
   "source": [
    "Concatenated X_train and y_train to see if there's some underlying patterns in the groups"
   ]
  },
  {
   "cell_type": "code",
   "execution_count": 32,
   "metadata": {
    "hidden": true
   },
   "outputs": [],
   "source": [
    "column_names = ['row_id', 'series_id', 'measurement_number', 'orientation_X',\n",
    "       'orientation_Y', 'orientation_Z', 'orientation_W', 'angular_velocity_X',\n",
    "       'angular_velocity_Y', 'angular_velocity_Z', 'linear_acceleration_X',\n",
    "       'linear_acceleration_Y', 'linear_acceleration_Z', 'series_id', 'group_id', 'surface']"
   ]
  },
  {
   "cell_type": "code",
   "execution_count": 35,
   "metadata": {
    "hidden": true
   },
   "outputs": [],
   "source": [
    "full_train = pd.read_csv('data/train.csv',names=column_names,index_col=0)"
   ]
  },
  {
   "cell_type": "code",
   "execution_count": 36,
   "metadata": {
    "hidden": true
   },
   "outputs": [
    {
     "data": {
      "text/html": [
       "<div>\n",
       "<style scoped>\n",
       "    .dataframe tbody tr th:only-of-type {\n",
       "        vertical-align: middle;\n",
       "    }\n",
       "\n",
       "    .dataframe tbody tr th {\n",
       "        vertical-align: top;\n",
       "    }\n",
       "\n",
       "    .dataframe thead th {\n",
       "        text-align: right;\n",
       "    }\n",
       "</style>\n",
       "<table border=\"1\" class=\"dataframe\">\n",
       "  <thead>\n",
       "    <tr style=\"text-align: right;\">\n",
       "      <th></th>\n",
       "      <th>series_id</th>\n",
       "      <th>measurement_number</th>\n",
       "      <th>orientation_X</th>\n",
       "      <th>orientation_Y</th>\n",
       "      <th>orientation_Z</th>\n",
       "      <th>orientation_W</th>\n",
       "      <th>angular_velocity_X</th>\n",
       "      <th>angular_velocity_Y</th>\n",
       "      <th>angular_velocity_Z</th>\n",
       "      <th>linear_acceleration_X</th>\n",
       "      <th>linear_acceleration_Y</th>\n",
       "      <th>linear_acceleration_Z</th>\n",
       "      <th>series_id.1</th>\n",
       "      <th>group_id</th>\n",
       "      <th>surface</th>\n",
       "    </tr>\n",
       "    <tr>\n",
       "      <th>row_id</th>\n",
       "      <th></th>\n",
       "      <th></th>\n",
       "      <th></th>\n",
       "      <th></th>\n",
       "      <th></th>\n",
       "      <th></th>\n",
       "      <th></th>\n",
       "      <th></th>\n",
       "      <th></th>\n",
       "      <th></th>\n",
       "      <th></th>\n",
       "      <th></th>\n",
       "      <th></th>\n",
       "      <th></th>\n",
       "      <th></th>\n",
       "    </tr>\n",
       "  </thead>\n",
       "  <tbody>\n",
       "    <tr>\n",
       "      <th>0_0</th>\n",
       "      <td>0</td>\n",
       "      <td>0</td>\n",
       "      <td>-0.75853</td>\n",
       "      <td>-0.63435</td>\n",
       "      <td>-0.10488</td>\n",
       "      <td>-0.10597</td>\n",
       "      <td>0.10765</td>\n",
       "      <td>0.017561</td>\n",
       "      <td>0.000767</td>\n",
       "      <td>-0.74857</td>\n",
       "      <td>2.103</td>\n",
       "      <td>-9.7532</td>\n",
       "      <td>0</td>\n",
       "      <td>13</td>\n",
       "      <td>fine_concrete</td>\n",
       "    </tr>\n",
       "  </tbody>\n",
       "</table>\n",
       "</div>"
      ],
      "text/plain": [
       "        series_id  measurement_number  orientation_X  orientation_Y  \\\n",
       "row_id                                                                \n",
       "0_0             0                   0       -0.75853       -0.63435   \n",
       "\n",
       "        orientation_Z  orientation_W  angular_velocity_X  angular_velocity_Y  \\\n",
       "row_id                                                                         \n",
       "0_0          -0.10488       -0.10597             0.10765            0.017561   \n",
       "\n",
       "        angular_velocity_Z  linear_acceleration_X  linear_acceleration_Y  \\\n",
       "row_id                                                                     \n",
       "0_0               0.000767               -0.74857                  2.103   \n",
       "\n",
       "        linear_acceleration_Z  series_id.1  group_id        surface  \n",
       "row_id                                                               \n",
       "0_0                   -9.7532            0        13  fine_concrete  "
      ]
     },
     "execution_count": 36,
     "metadata": {},
     "output_type": "execute_result"
    }
   ],
   "source": [
    "full_train.head(1)"
   ]
  },
  {
   "cell_type": "markdown",
   "metadata": {
    "hidden": true
   },
   "source": [
    "### Visualization"
   ]
  },
  {
   "cell_type": "code",
   "execution_count": 51,
   "metadata": {
    "hidden": true
   },
   "outputs": [
    {
     "data": {
      "text/plain": [
       "<matplotlib.axes._subplots.AxesSubplot at 0x7f54d0ecfa90>"
      ]
     },
     "execution_count": 51,
     "metadata": {},
     "output_type": "execute_result"
    },
    {
     "data": {
      "image/png": "[encoded data removed]",
      "text/plain": [
       "<Figure size 842.4x595.44 with 1 Axes>"
      ]
     },
     "metadata": {
      "needs_background": "light"
     },
     "output_type": "display_data"
    }
   ],
   "source": [
    "fig, ax = plt.subplots()\n",
    "fig.set_size_inches(11.7, 8.27)\n",
    "sns.violinplot(x='surface', y='linear_acceleration_X', data=full_train)"
   ]
  },
  {
   "cell_type": "markdown",
   "metadata": {
    "hidden": true
   },
   "source": [
    "Only grab the columns that provide useful information"
   ]
  },
  {
   "cell_type": "code",
   "execution_count": null,
   "metadata": {
    "hidden": true
   },
   "outputs": [],
   "source": [
    "indep_columns = full_train.columns.values[2:-3]"
   ]
  },
  {
   "cell_type": "code",
   "execution_count": 50,
   "metadata": {
    "hidden": true
   },
   "outputs": [
    {
     "name": "stdout",
     "output_type": "stream",
     "text": [
      "['orientation_X' 'orientation_Y' 'orientation_Z' 'orientation_W'\n",
      " 'angular_velocity_X' 'angular_velocity_Y' 'angular_velocity_Z'\n",
      " 'linear_acceleration_X' 'linear_acceleration_Y' 'linear_acceleration_Z']\n"
     ]
    }
   ],
   "source": [
    "print(indep_columns)"
   ]
  },
  {
   "cell_type": "code",
   "execution_count": 52,
   "metadata": {
    "hidden": true,
    "scrolled": true
   },
   "outputs": [
    {
     "data": {
      "image/png": "[encoded data removed]",
      "text/plain": [
       "<Figure size 842.4x595.44 with 1 Axes>"
      ]
     },
     "metadata": {
      "needs_background": "light"
     },
     "output_type": "display_data"
    },
    {
     "data": {
      "image/png": "[encoded data removed]",
      "text/plain": [
       "<Figure size 842.4x595.44 with 1 Axes>"
      ]
     },
     "metadata": {
      "needs_background": "light"
     },
     "output_type": "display_data"
    },
    {
     "data": {
      "image/png": "[encoded data removed]",
      "text/plain": [
       "<Figure size 842.4x595.44 with 1 Axes>"
      ]
     },
     "metadata": {
      "needs_background": "light"
     },
     "output_type": "display_data"
    },
    {
     "data": {
      "image/png": "[encoded data removed]",
      "text/plain": [
       "<Figure size 842.4x595.44 with 1 Axes>"
      ]
     },
     "metadata": {
      "needs_background": "light"
     },
     "output_type": "display_data"
    },
    {
     "data": {
      "image/png": "[encoded data removed]",
      "text/plain": [
       "<Figure size 842.4x595.44 with 1 Axes>"
      ]
     },
     "metadata": {
      "needs_background": "light"
     },
     "output_type": "display_data"
    },
    {
     "data": {
      "image/png": "[encoded data removed]",
      "text/plain": [
       "<Figure size 842.4x595.44 with 1 Axes>"
      ]
     },
     "metadata": {
      "needs_background": "light"
     },
     "output_type": "display_data"
    },
    {
     "data": {
      "image/png": "[encoded data removed]",
      "text/plain": [
       "<Figure size 842.4x595.44 with 1 Axes>"
      ]
     },
     "metadata": {
      "needs_background": "light"
     },
     "output_type": "display_data"
    },
    {
     "data": {
      "image/png": "[encoded data removed]",
      "text/plain": [
       "<Figure size 842.4x595.44 with 1 Axes>"
      ]
     },
     "metadata": {
      "needs_background": "light"
     },
     "output_type": "display_data"
    },
    {
     "data": {
      "image/png": "[encoded data removed]",
      "text/plain": [
       "<Figure size 842.4x595.44 with 1 Axes>"
      ]
     },
     "metadata": {
      "needs_background": "light"
     },
     "output_type": "display_data"
    },
    {
     "data": {
      "image/png": "[encoded data removed]",
      "text/plain": [
       "<Figure size 842.4x595.44 with 1 Axes>"
      ]
     },
     "metadata": {
      "needs_background": "light"
     },
     "output_type": "display_data"
    }
   ],
   "source": [
    "for column in indep_columns:\n",
    "    fig, ax = plt.subplots()\n",
    "    fig.set_size_inches(11.7, 8.27)\n",
    "    sns.violinplot(x='surface', y=column, data=full_train)"
   ]
  },
  {
   "cell_type": "markdown",
   "metadata": {
    "hidden": true
   },
   "source": [
    "### Group by Orientation"
   ]
  },
  {
   "cell_type": "markdown",
   "metadata": {
    "hidden": true
   },
   "source": [
    "#### Table"
   ]
  },
  {
   "cell_type": "code",
   "execution_count": 53,
   "metadata": {
    "hidden": true
   },
   "outputs": [
    {
     "data": {
      "text/plain": [
       "Index(['series_id', 'measurement_number', 'orientation_X', 'orientation_Y',\n",
       "       'orientation_Z', 'orientation_W', 'angular_velocity_X',\n",
       "       'angular_velocity_Y', 'angular_velocity_Z', 'linear_acceleration_X',\n",
       "       'linear_acceleration_Y', 'linear_acceleration_Z', 'series_id.1',\n",
       "       'group_id', 'surface'],\n",
       "      dtype='object')"
      ]
     },
     "execution_count": 53,
     "metadata": {},
     "output_type": "execute_result"
    }
   ],
   "source": [
    "full_train.columns"
   ]
  },
  {
   "cell_type": "code",
   "execution_count": 56,
   "metadata": {
    "hidden": true
   },
   "outputs": [],
   "source": [
    "gptest = full_train[['orientation_X','orientation_Y','surface']]\n",
    "grouped_test1 = gptest.groupby(['surface'],as_index=False).mean()"
   ]
  },
  {
   "cell_type": "code",
   "execution_count": 57,
   "metadata": {
    "hidden": true
   },
   "outputs": [
    {
     "data": {
      "text/html": [
       "<div>\n",
       "<style scoped>\n",
       "    .dataframe tbody tr th:only-of-type {\n",
       "        vertical-align: middle;\n",
       "    }\n",
       "\n",
       "    .dataframe tbody tr th {\n",
       "        vertical-align: top;\n",
       "    }\n",
       "\n",
       "    .dataframe thead th {\n",
       "        text-align: right;\n",
       "    }\n",
       "</style>\n",
       "<table border=\"1\" class=\"dataframe\">\n",
       "  <thead>\n",
       "    <tr style=\"text-align: right;\">\n",
       "      <th></th>\n",
       "      <th>surface</th>\n",
       "      <th>orientation_X</th>\n",
       "      <th>orientation_Y</th>\n",
       "    </tr>\n",
       "  </thead>\n",
       "  <tbody>\n",
       "    <tr>\n",
       "      <th>0</th>\n",
       "      <td>carpet</td>\n",
       "      <td>-0.385794</td>\n",
       "      <td>0.232877</td>\n",
       "    </tr>\n",
       "    <tr>\n",
       "      <th>1</th>\n",
       "      <td>concrete</td>\n",
       "      <td>-0.207607</td>\n",
       "      <td>0.078932</td>\n",
       "    </tr>\n",
       "    <tr>\n",
       "      <th>2</th>\n",
       "      <td>fine_concrete</td>\n",
       "      <td>-0.143290</td>\n",
       "      <td>0.188151</td>\n",
       "    </tr>\n",
       "    <tr>\n",
       "      <th>3</th>\n",
       "      <td>hard_tiles</td>\n",
       "      <td>0.650556</td>\n",
       "      <td>-0.735114</td>\n",
       "    </tr>\n",
       "    <tr>\n",
       "      <th>4</th>\n",
       "      <td>hard_tiles_large_space</td>\n",
       "      <td>0.393165</td>\n",
       "      <td>-0.113644</td>\n",
       "    </tr>\n",
       "    <tr>\n",
       "      <th>5</th>\n",
       "      <td>soft_pvc</td>\n",
       "      <td>0.309570</td>\n",
       "      <td>-0.011457</td>\n",
       "    </tr>\n",
       "    <tr>\n",
       "      <th>6</th>\n",
       "      <td>soft_tiles</td>\n",
       "      <td>0.276689</td>\n",
       "      <td>0.017786</td>\n",
       "    </tr>\n",
       "    <tr>\n",
       "      <th>7</th>\n",
       "      <td>tiled</td>\n",
       "      <td>-0.275754</td>\n",
       "      <td>0.075003</td>\n",
       "    </tr>\n",
       "    <tr>\n",
       "      <th>8</th>\n",
       "      <td>wood</td>\n",
       "      <td>-0.138246</td>\n",
       "      <td>0.209518</td>\n",
       "    </tr>\n",
       "  </tbody>\n",
       "</table>\n",
       "</div>"
      ],
      "text/plain": [
       "                  surface  orientation_X  orientation_Y\n",
       "0                  carpet      -0.385794       0.232877\n",
       "1                concrete      -0.207607       0.078932\n",
       "2           fine_concrete      -0.143290       0.188151\n",
       "3              hard_tiles       0.650556      -0.735114\n",
       "4  hard_tiles_large_space       0.393165      -0.113644\n",
       "5                soft_pvc       0.309570      -0.011457\n",
       "6              soft_tiles       0.276689       0.017786\n",
       "7                   tiled      -0.275754       0.075003\n",
       "8                    wood      -0.138246       0.209518"
      ]
     },
     "execution_count": 57,
     "metadata": {},
     "output_type": "execute_result"
    }
   ],
   "source": [
    "grouped_test1"
   ]
  },
  {
   "cell_type": "markdown",
   "metadata": {
    "hidden": true
   },
   "source": [
    "#### ANOVA"
   ]
  },
  {
   "cell_type": "code",
   "execution_count": 76,
   "metadata": {
    "hidden": true
   },
   "outputs": [
    {
     "data": {
      "text/plain": [
       "array(['fine_concrete', 'concrete', 'soft_tiles', 'tiled', 'soft_pvc',\n",
       "       'hard_tiles_large_space', 'carpet', 'hard_tiles', 'wood'],\n",
       "      dtype=object)"
      ]
     },
     "execution_count": 76,
     "metadata": {},
     "output_type": "execute_result"
    }
   ],
   "source": [
    "gptest['surface'].unique()"
   ]
  },
  {
   "cell_type": "code",
   "execution_count": 66,
   "metadata": {
    "hidden": true
   },
   "outputs": [
    {
     "data": {
      "text/html": [
       "<div>\n",
       "<style scoped>\n",
       "    .dataframe tbody tr th:only-of-type {\n",
       "        vertical-align: middle;\n",
       "    }\n",
       "\n",
       "    .dataframe tbody tr th {\n",
       "        vertical-align: top;\n",
       "    }\n",
       "\n",
       "    .dataframe thead th {\n",
       "        text-align: right;\n",
       "    }\n",
       "</style>\n",
       "<table border=\"1\" class=\"dataframe\">\n",
       "  <thead>\n",
       "    <tr style=\"text-align: right;\">\n",
       "      <th></th>\n",
       "      <th>orientation_X</th>\n",
       "      <th>orientation_Y</th>\n",
       "      <th>surface</th>\n",
       "    </tr>\n",
       "    <tr>\n",
       "      <th>row_id</th>\n",
       "      <th></th>\n",
       "      <th></th>\n",
       "      <th></th>\n",
       "    </tr>\n",
       "  </thead>\n",
       "  <tbody>\n",
       "    <tr>\n",
       "      <th>0_0</th>\n",
       "      <td>-0.75853</td>\n",
       "      <td>-0.63435</td>\n",
       "      <td>fine_concrete</td>\n",
       "    </tr>\n",
       "    <tr>\n",
       "      <th>0_1</th>\n",
       "      <td>-0.75853</td>\n",
       "      <td>-0.63434</td>\n",
       "      <td>fine_concrete</td>\n",
       "    </tr>\n",
       "    <tr>\n",
       "      <th>0_2</th>\n",
       "      <td>-0.75853</td>\n",
       "      <td>-0.63435</td>\n",
       "      <td>fine_concrete</td>\n",
       "    </tr>\n",
       "  </tbody>\n",
       "</table>\n",
       "</div>"
      ],
      "text/plain": [
       "        orientation_X  orientation_Y        surface\n",
       "row_id                                             \n",
       "0_0          -0.75853       -0.63435  fine_concrete\n",
       "0_1          -0.75853       -0.63434  fine_concrete\n",
       "0_2          -0.75853       -0.63435  fine_concrete"
      ]
     },
     "execution_count": 66,
     "metadata": {},
     "output_type": "execute_result"
    }
   ],
   "source": [
    "gptest.head(3)"
   ]
  },
  {
   "cell_type": "code",
   "execution_count": 69,
   "metadata": {
    "hidden": true
   },
   "outputs": [],
   "source": [
    "grouped_test2 = gptest.groupby(['surface'],as_index=False)"
   ]
  },
  {
   "cell_type": "code",
   "execution_count": 75,
   "metadata": {
    "hidden": true
   },
   "outputs": [
    {
     "data": {
      "text/plain": [
       "row_id\n",
       "0_0   -0.75853\n",
       "0_1   -0.75853\n",
       "0_2   -0.75853\n",
       "Name: orientation_X, dtype: float64"
      ]
     },
     "execution_count": 75,
     "metadata": {},
     "output_type": "execute_result"
    }
   ],
   "source": [
    "grouped_test2.get_group('fine_concrete')['orientation_X'].head(3)"
   ]
  },
  {
   "cell_type": "code",
   "execution_count": 82,
   "metadata": {
    "hidden": true
   },
   "outputs": [
    {
     "name": "stdout",
     "output_type": "stream",
     "text": [
      "ANOVA results: F= 270.896731231844 , P = 8.209449495074757e-61\n"
     ]
    }
   ],
   "source": [
    "f_val, p_val = stats.f_oneway(grouped_test2.get_group('fine_concrete')['orientation_X'], grouped_test2.get_group('concrete')['orientation_X'])  \n",
    " \n",
    "print( \"ANOVA results: F=\", f_val, \", P =\", p_val)   "
   ]
  },
  {
   "cell_type": "code",
   "execution_count": 128,
   "metadata": {
    "hidden": true
   },
   "outputs": [],
   "source": [
    "def ANOVA(data, cat1, cat2, var):\n",
    "    f_val, p_val = stats.f_oneway(data.get_group(cat1)[var], grouped_test2.get_group(cat2)[var])\n",
    "    print( \"ANOVA for {0} and {1} on {2}: F = {3:.3f}, P = {4}\".format(cat1, cat2, var, f_val, p_val))"
   ]
  },
  {
   "cell_type": "code",
   "execution_count": 129,
   "metadata": {
    "hidden": true
   },
   "outputs": [
    {
     "name": "stdout",
     "output_type": "stream",
     "text": [
      "ANOVA for fine_concrete and concrete on orientation_X: F = 270.897, P = 8.209449495074757e-61\n"
     ]
    }
   ],
   "source": [
    "ANOVA(grouped_test2, 'fine_concrete', 'concrete', 'orientation_X')"
   ]
  },
  {
   "cell_type": "code",
   "execution_count": 130,
   "metadata": {
    "hidden": true
   },
   "outputs": [],
   "source": [
    "surface_types = full_train['surface'].unique()"
   ]
  },
  {
   "cell_type": "code",
   "execution_count": 136,
   "metadata": {
    "hidden": true
   },
   "outputs": [
    {
     "name": "stdout",
     "output_type": "stream",
     "text": [
      "ANOVA for fine_concrete and fine_concrete on orientation_X: F = 0.000, P = 1.0\n",
      "\n",
      "\n",
      "ANOVA for fine_concrete and concrete on orientation_X: F = 270.897, P = 8.209449495074757e-61\n",
      "\n",
      "\n",
      "ANOVA for fine_concrete and soft_tiles on orientation_X: F = 8797.854, P = 0.0\n",
      "\n",
      "\n",
      "ANOVA for fine_concrete and tiled on orientation_X: F = 1300.595, P = 3.5473900824199744e-283\n",
      "\n",
      "\n",
      "ANOVA for fine_concrete and soft_pvc on orientation_X: F = 16693.650, P = 0.0\n",
      "\n",
      "\n",
      "ANOVA for fine_concrete and hard_tiles_large_space on orientation_X: F = 18090.927, P = 0.0\n",
      "\n",
      "\n",
      "ANOVA for fine_concrete and carpet on orientation_X: F = 2552.888, P = 0.0\n",
      "\n",
      "\n",
      "ANOVA for fine_concrete and hard_tiles on orientation_X: F = 4282.002, P = 0.0\n",
      "\n",
      "\n",
      "ANOVA for fine_concrete and wood on orientation_X: F = 1.867, P = 0.17184977381570515\n",
      "\n",
      "\n"
     ]
    }
   ],
   "source": [
    "for surface in surface_types:\n",
    "    ANOVA(grouped_test2, 'fine_concrete', surface, 'orientation_X')\n",
    "    print('\\n')"
   ]
  },
  {
   "cell_type": "code",
   "execution_count": 140,
   "metadata": {
    "hidden": true
   },
   "outputs": [
    {
     "name": "stdout",
     "output_type": "stream",
     "text": [
      "StandardScaler(copy=True, with_mean=True, with_std=True)\n"
     ]
    }
   ],
   "source": [
    "print(scaler.fit(train_values))"
   ]
  },
  {
   "cell_type": "code",
   "execution_count": 143,
   "metadata": {
    "hidden": true
   },
   "outputs": [
    {
     "name": "stdout",
     "output_type": "stream",
     "text": [
      "[[-1.73159626 -1.71857161 -1.07989683 ... -0.46928895 -0.36609528\n",
      "  -0.13647385]\n",
      " [-1.73159626 -1.69150749 -1.07989683 ...  0.11262123 -0.64487185\n",
      "  -0.01683956]\n",
      " [-1.73159626 -1.66444337 -1.07989683 ... -0.21039847 -0.60477961\n",
      "   0.2242917 ]\n",
      " ...\n",
      " [ 1.73159626  1.66444337  0.94350897 ...  1.37684263  0.64284601\n",
      "   0.42897738]\n",
      " [ 1.73159626  1.69150749  0.94368397 ...  1.28927705  0.85349381\n",
      "  -0.02762914]\n",
      " [ 1.73159626  1.71857161  0.94385898 ...  0.37134063  0.64887386\n",
      "  -0.39823535]]\n"
     ]
    }
   ],
   "source": [
    "print(scaler.transform(train_values))"
   ]
  },
  {
   "cell_type": "markdown",
   "metadata": {},
   "source": [
    "# Feature Engineering"
   ]
  },
  {
   "cell_type": "code",
   "execution_count": 4,
   "metadata": {},
   "outputs": [],
   "source": [
    "ts_cols = train_values.columns"
   ]
  },
  {
   "cell_type": "code",
   "execution_count": 5,
   "metadata": {},
   "outputs": [
    {
     "data": {
      "text/plain": [
       "Index(['series_id', 'measurement_number', 'orientation_X', 'orientation_Y',\n",
       "       'orientation_Z', 'orientation_W', 'angular_velocity_X',\n",
       "       'angular_velocity_Y', 'angular_velocity_Z', 'linear_acceleration_X',\n",
       "       'linear_acceleration_Y', 'linear_acceleration_Z'],\n",
       "      dtype='object')"
      ]
     },
     "execution_count": 5,
     "metadata": {},
     "output_type": "execute_result"
    }
   ],
   "source": [
    "ts_cols"
   ]
  },
  {
   "cell_type": "code",
   "execution_count": 6,
   "metadata": {},
   "outputs": [],
   "source": [
    "def prep_time_series_features(df, columns=None):\n",
    "    if columns is None:\n",
    "        columns = df.columns\n",
    "    \n",
    "    ts_df = df[ts_cols].set_index('series_id')\n",
    "    \n",
    "    ts_features = ts_df.groupby('series_id').agg(['min', 'max', 'mean', 'std', lambda x: x.tail(10).mean()])\n",
    "    \n",
    "    return ts_features"
   ]
  },
  {
   "cell_type": "code",
   "execution_count": 7,
   "metadata": {},
   "outputs": [],
   "source": [
    "train_features = prep_time_series_features(train_values)"
   ]
  },
  {
   "cell_type": "markdown",
   "metadata": {
    "heading_collapsed": true
   },
   "source": [
    "# Model Creation"
   ]
  },
  {
   "cell_type": "markdown",
   "metadata": {
    "hidden": true
   },
   "source": [
    "## Sanity Check"
   ]
  },
  {
   "cell_type": "code",
   "execution_count": 8,
   "metadata": {
    "hidden": true
   },
   "outputs": [],
   "source": [
    "y = np.ravel(train_labels['surface'])"
   ]
  },
  {
   "cell_type": "code",
   "execution_count": 9,
   "metadata": {
    "hidden": true
   },
   "outputs": [
    {
     "name": "stdout",
     "output_type": "stream",
     "text": [
      "CPU times: user 204 ms, sys: 0 ns, total: 204 ms\n",
      "Wall time: 200 ms\n"
     ]
    }
   ],
   "source": [
    "%%time\n",
    "rf = RandomForestClassifier(n_estimators=10, random_state=2019)\n",
    "rf.fit(train_features, y)"
   ]
  },
  {
   "cell_type": "code",
   "execution_count": 10,
   "metadata": {
    "hidden": true
   },
   "outputs": [
    {
     "data": {
      "text/plain": [
       "0.9973753280839895"
      ]
     },
     "execution_count": 10,
     "metadata": {},
     "output_type": "execute_result"
    }
   ],
   "source": [
    "rf.score(train_features, y)"
   ]
  },
  {
   "cell_type": "markdown",
   "metadata": {
    "hidden": true
   },
   "source": [
    "## Train-Test Split"
   ]
  },
  {
   "cell_type": "code",
   "execution_count": 11,
   "metadata": {
    "hidden": true
   },
   "outputs": [],
   "source": [
    "valid_size = int(len(train_features) * 0.1)"
   ]
  },
  {
   "cell_type": "code",
   "execution_count": 12,
   "metadata": {
    "hidden": true
   },
   "outputs": [
    {
     "data": {
      "text/plain": [
       "((3429, 55), (3429,), (381, 55))"
      ]
     },
     "execution_count": 12,
     "metadata": {},
     "output_type": "execute_result"
    }
   ],
   "source": [
    "def split_vals(a,n): return a[:n].copy(), a[n:].copy()\n",
    "\n",
    "n_valid = valid_size\n",
    "n_trn = len(train_features)-n_valid\n",
    "raw_train, raw_valid = split_vals(train_features, n_trn)\n",
    "X_train, X_valid = split_vals(train_features, n_trn)\n",
    "y_train, y_valid = split_vals(y, n_trn)\n",
    "\n",
    "X_train.shape, y_train.shape, X_valid.shape"
   ]
  },
  {
   "cell_type": "code",
   "execution_count": 13,
   "metadata": {
    "hidden": true
   },
   "outputs": [
    {
     "data": {
      "text/plain": [
       "array(['fine_concrete', 'concrete', 'soft_tiles', 'tiled', 'soft_pvc',\n",
       "       'hard_tiles_large_space', 'carpet', 'hard_tiles', 'wood'],\n",
       "      dtype=object)"
      ]
     },
     "execution_count": 13,
     "metadata": {},
     "output_type": "execute_result"
    }
   ],
   "source": [
    "train_labels['surface'].unique()"
   ]
  },
  {
   "cell_type": "markdown",
   "metadata": {
    "hidden": true
   },
   "source": [
    "### Metrics"
   ]
  },
  {
   "cell_type": "code",
   "execution_count": 14,
   "metadata": {
    "hidden": true
   },
   "outputs": [],
   "source": [
    "def print_score(m):\n",
    "    p, r, f1, s = precision_recall_fscore_support(y_valid, m.predict(X_valid), average='weighted')\n",
    "    print(\"The Weighted F1 Score is: {}\".format(f1))\n",
    "    print(\"The Precision Score is: {}\".format(p))\n",
    "    print(\"The Recall Score is: {}\".format(r))\n",
    "    print(\"\\n\")\n",
    "    \n",
    "    target_names = train_labels['surface'].unique()\n",
    "    print(\"                       Test Set Results\")\n",
    "    print(classification_report(y_valid, m.predict(X_valid), target_names=target_names))"
   ]
  },
  {
   "cell_type": "markdown",
   "metadata": {
    "hidden": true
   },
   "source": [
    "### Sanity Check 2"
   ]
  },
  {
   "cell_type": "code",
   "execution_count": 15,
   "metadata": {
    "hidden": true
   },
   "outputs": [
    {
     "name": "stdout",
     "output_type": "stream",
     "text": [
      "CPU times: user 272 ms, sys: 4 ms, total: 276 ms\n",
      "Wall time: 115 ms\n",
      "The Weighted F1 Score is: 0.8193725952720126\n",
      "The Precision Score is: 0.8291453007160876\n",
      "The Recall Score is: 0.8136482939632546\n",
      "\n",
      "\n",
      "                       Test Set Results\n",
      "                        precision    recall  f1-score   support\n",
      "\n",
      "         fine_concrete       0.72      0.87      0.79        15\n",
      "              concrete       0.85      0.86      0.86        88\n",
      "            soft_tiles       0.73      0.56      0.63        43\n",
      "                 tiled       0.00      0.00      0.00         0\n",
      "              soft_pvc       0.90      0.90      0.90        41\n",
      "hard_tiles_large_space       0.84      0.84      0.84        58\n",
      "                carpet       0.00      0.00      0.00         0\n",
      "            hard_tiles       0.90      0.82      0.86        68\n",
      "                  wood       0.75      0.81      0.78        68\n",
      "\n",
      "           avg / total       0.83      0.81      0.82       381\n",
      "\n"
     ]
    }
   ],
   "source": [
    "m = RandomForestClassifier(n_jobs=-1)\n",
    "%time m.fit(X_train, y_train)\n",
    "print_score(m)"
   ]
  },
  {
   "cell_type": "markdown",
   "metadata": {
    "heading_collapsed": true
   },
   "source": [
    "# Parameter Tuning"
   ]
  },
  {
   "cell_type": "markdown",
   "metadata": {
    "hidden": true
   },
   "source": [
    "## Manual"
   ]
  },
  {
   "cell_type": "code",
   "execution_count": 16,
   "metadata": {
    "hidden": true
   },
   "outputs": [],
   "source": [
    "RANDOM_STATE=2019"
   ]
  },
  {
   "cell_type": "code",
   "execution_count": 21,
   "metadata": {
    "hidden": true
   },
   "outputs": [],
   "source": [
    "ensemble_clfs = [\n",
    "    (\"RandomForestClassifier, max_features='sqrt'\",\n",
    "        RandomForestClassifier(n_estimators=100,\n",
    "                               warm_start=True, oob_score=True,\n",
    "                               max_features=\"sqrt\",\n",
    "                               random_state=RANDOM_STATE)),\n",
    "    (\"RandomForestClassifier, max_features='log2'\",\n",
    "        RandomForestClassifier(n_estimators=100,\n",
    "                               warm_start=True, max_features='log2',\n",
    "                               oob_score=True,\n",
    "                               random_state=RANDOM_STATE)),\n",
    "]"
   ]
  },
  {
   "cell_type": "code",
   "execution_count": null,
   "metadata": {
    "hidden": true
   },
   "outputs": [],
   "source": [
    "    (\"RandomForestClassifier, max_features=None\",\n",
    "        RandomForestClassifier(n_estimators=100,\n",
    "                               warm_start=True, max_features=None,\n",
    "                               oob_score=True,\n",
    "                               random_state=RANDOM_STATE))\n"
   ]
  },
  {
   "cell_type": "code",
   "execution_count": 22,
   "metadata": {
    "hidden": true
   },
   "outputs": [],
   "source": [
    "error_rate = OrderedDict((label, []) for label, _ in ensemble_clfs)"
   ]
  },
  {
   "cell_type": "code",
   "execution_count": 23,
   "metadata": {
    "hidden": true
   },
   "outputs": [],
   "source": [
    "min_estimators = 15\n",
    "max_estimators = 300"
   ]
  },
  {
   "cell_type": "code",
   "execution_count": 25,
   "metadata": {
    "hidden": true
   },
   "outputs": [],
   "source": [
    "for label, clf in ensemble_clfs:\n",
    "    for i in range(min_estimators, max_estimators + 1):\n",
    "        clf.set_params(n_estimators=i)\n",
    "        clf.fit(train_features, y)\n",
    "\n",
    "        # Record the OOB error for each `n_estimators=i` setting.\n",
    "        oob_error = 1 - clf.oob_score_\n",
    "        error_rate[label].append((i, oob_error))"
   ]
  },
  {
   "cell_type": "code",
   "execution_count": 26,
   "metadata": {
    "hidden": true
   },
   "outputs": [
    {
     "data": {
      "image/png": "[encoded data removed]",
      "text/plain": [
       "<Figure size 432x288 with 1 Axes>"
      ]
     },
     "metadata": {
      "needs_background": "light"
     },
     "output_type": "display_data"
    }
   ],
   "source": [
    "for label, clf_err in error_rate.items():\n",
    "    xs, ys = zip(*clf_err)\n",
    "    plt.plot(xs, ys, label=label)\n",
    "\n",
    "plt.xlim(min_estimators, max_estimators)\n",
    "plt.xlabel(\"n_estimators\")\n",
    "plt.ylabel(\"OOB error rate\")\n",
    "plt.legend(loc=\"upper right\")\n",
    "plt.show()"
   ]
  },
  {
   "cell_type": "markdown",
   "metadata": {
    "hidden": true
   },
   "source": [
    "Seems like the optimal number of estimators is ~300, with max_features at 'log2'"
   ]
  },
  {
   "cell_type": "markdown",
   "metadata": {
    "hidden": true
   },
   "source": [
    "## min_samples_leaf"
   ]
  },
  {
   "cell_type": "code",
   "execution_count": 27,
   "metadata": {
    "hidden": true
   },
   "outputs": [
    {
     "name": "stdout",
     "output_type": "stream",
     "text": [
      "oob_error :0.1286089238845144\n"
     ]
    }
   ],
   "source": [
    "m = RandomForestClassifier(n_estimators=275,\n",
    "                               warm_start=True, max_features='log2',\n",
    "                               oob_score=True,\n",
    "                               min_samples_leaf=3,\n",
    "                               random_state=RANDOM_STATE)\n",
    "m.fit(train_features, y)\n",
    "print(\"oob_error :{}\".format(1 - m.oob_score_))"
   ]
  },
  {
   "cell_type": "markdown",
   "metadata": {
    "hidden": true
   },
   "source": [
    "Oooooorrrr not"
   ]
  },
  {
   "cell_type": "markdown",
   "metadata": {
    "hidden": true
   },
   "source": [
    "## Grid Search"
   ]
  },
  {
   "cell_type": "code",
   "execution_count": 34,
   "metadata": {
    "hidden": true
   },
   "outputs": [],
   "source": [
    "baseRF = RandomForestClassifier(n_estimators = 275, \n",
    "                               random_state = 2019,\n",
    "                               n_jobs = -1,\n",
    "                               oob_score = True)"
   ]
  },
  {
   "cell_type": "code",
   "execution_count": 35,
   "metadata": {
    "hidden": true
   },
   "outputs": [],
   "source": [
    "param_grid = {\n",
    "    'min_samples_leaf' :[1,3,5], \n",
    "    'max_features' : ['log2', 'sqrt'],\n",
    "    'criterion' : ['gini','entropy']\n",
    "}"
   ]
  },
  {
   "cell_type": "code",
   "execution_count": 36,
   "metadata": {
    "hidden": true
   },
   "outputs": [
    {
     "data": {
      "text/plain": [
       "GridSearchCV(cv=None, error_score='raise',\n",
       "       estimator=RandomForestClassifier(bootstrap=True, class_weight=None, criterion='gini',\n",
       "            max_depth=None, max_features='auto', max_leaf_nodes=None,\n",
       "            min_impurity_decrease=0.0, min_impurity_split=None,\n",
       "            min_samples_leaf=1, min_samples_split=2,\n",
       "            min_weight_fraction_leaf=0.0, n_estimators=275, n_jobs=-1,\n",
       "            oob_score=True, random_state=2019, verbose=0, warm_start=False),\n",
       "       fit_params=None, iid=True, n_jobs=1,\n",
       "       param_grid={'min_samples_leaf': [1, 3, 5], 'max_features': ['log2', 'sqrt'], 'criterion': ['gini', 'entropy']},\n",
       "       pre_dispatch='2*n_jobs', refit=True, return_train_score='warn',\n",
       "       scoring='f1_weighted', verbose=0)"
      ]
     },
     "execution_count": 36,
     "metadata": {},
     "output_type": "execute_result"
    }
   ],
   "source": [
    "from sklearn.model_selection import GridSearchCV\n",
    "cvRF = GridSearchCV(estimator=baseRF, param_grid=param_grid, scoring='f1_weighted')\n",
    "cvRF.fit(train_features,y)"
   ]
  },
  {
   "cell_type": "code",
   "execution_count": 37,
   "metadata": {
    "hidden": true
   },
   "outputs": [
    {
     "data": {
      "text/plain": [
       "{'criterion': 'gini', 'max_features': 'log2', 'min_samples_leaf': 1}"
      ]
     },
     "execution_count": 37,
     "metadata": {},
     "output_type": "execute_result"
    }
   ],
   "source": [
    "cvRF.best_params_"
   ]
  },
  {
   "cell_type": "code",
   "execution_count": 38,
   "metadata": {
    "hidden": true
   },
   "outputs": [
    {
     "data": {
      "text/plain": [
       "0.7122507535733885"
      ]
     },
     "execution_count": 38,
     "metadata": {},
     "output_type": "execute_result"
    }
   ],
   "source": [
    "cvRF.best_score_"
   ]
  },
  {
   "cell_type": "markdown",
   "metadata": {
    "heading_collapsed": true
   },
   "source": [
    "# Model Evaluation"
   ]
  },
  {
   "cell_type": "code",
   "execution_count": 43,
   "metadata": {
    "hidden": true
   },
   "outputs": [
    {
     "data": {
      "text/plain": [
       "RandomForestClassifier(bootstrap=True, class_weight=None, criterion='gini',\n",
       "            max_depth=None, max_features='log2', max_leaf_nodes=None,\n",
       "            min_impurity_decrease=0.0, min_impurity_split=None,\n",
       "            min_samples_leaf=1, min_samples_split=2,\n",
       "            min_weight_fraction_leaf=0.0, n_estimators=275, n_jobs=-1,\n",
       "            oob_score=True, random_state=2019, verbose=0, warm_start=False)"
      ]
     },
     "execution_count": 43,
     "metadata": {},
     "output_type": "execute_result"
    }
   ],
   "source": [
    "model = RandomForestClassifier(n_estimators = 275, \n",
    "                               random_state = 2019,\n",
    "                               n_jobs = -1,\n",
    "                               oob_score = True,\n",
    "                               criterion = 'gini',\n",
    "                               min_samples_leaf = 1,\n",
    "                               max_features='log2')\n",
    "model.fit(X_train,y_train)"
   ]
  },
  {
   "cell_type": "code",
   "execution_count": 44,
   "metadata": {
    "hidden": true
   },
   "outputs": [
    {
     "data": {
      "text/plain": [
       "0.8856809565470983"
      ]
     },
     "execution_count": 44,
     "metadata": {},
     "output_type": "execute_result"
    }
   ],
   "source": [
    "model.oob_score_"
   ]
  },
  {
   "cell_type": "code",
   "execution_count": 46,
   "metadata": {
    "hidden": true
   },
   "outputs": [
    {
     "name": "stdout",
     "output_type": "stream",
     "text": [
      "The Weighted F1 Score is: 0.8698854284256555\n",
      "The Precision Score is: 0.8808782319993785\n",
      "The Recall Score is: 0.863517060367454\n",
      "\n",
      "\n",
      "                       Test Set Results\n",
      "                        precision    recall  f1-score   support\n",
      "\n",
      "         fine_concrete       0.76      0.87      0.81        15\n",
      "              concrete       0.92      0.88      0.90        88\n",
      "            soft_tiles       0.84      0.63      0.72        43\n",
      "                 tiled       0.95      0.95      0.95        41\n",
      "              soft_pvc       0.86      0.88      0.87        58\n",
      "hard_tiles_large_space       0.00      0.00      0.00         0\n",
      "                carpet       0.93      0.91      0.92        68\n",
      "            hard_tiles       0.81      0.88      0.85        68\n",
      "\n",
      "           avg / total       0.88      0.86      0.87       381\n",
      "\n"
     ]
    }
   ],
   "source": [
    "print_score(model)"
   ]
  },
  {
   "cell_type": "code",
   "execution_count": 49,
   "metadata": {
    "hidden": true
   },
   "outputs": [
    {
     "name": "stdout",
     "output_type": "stream",
     "text": [
      "The Weighted F1 Score is: 0.8809643312728027\n",
      "The Precision Score is: 0.8886017349088718\n",
      "The Recall Score is: 0.8766404199475065\n",
      "\n",
      "\n",
      "                       Test Set Results\n",
      "                        precision    recall  f1-score   support\n",
      "\n",
      "         fine_concrete       0.76      0.87      0.81        15\n",
      "              concrete       0.93      0.88      0.90        88\n",
      "            soft_tiles       0.83      0.70      0.76        43\n",
      "                 tiled       0.95      0.95      0.95        41\n",
      "              soft_pvc       0.88      0.88      0.88        58\n",
      "hard_tiles_large_space       0.00      0.00      0.00         0\n",
      "                carpet       0.95      0.91      0.93        68\n",
      "            hard_tiles       0.81      0.91      0.86        68\n",
      "\n",
      "           avg / total       0.89      0.88      0.88       381\n",
      "\n"
     ]
    },
    {
     "data": {
      "text/plain": [
       "0.889763779527559"
      ]
     },
     "execution_count": 49,
     "metadata": {},
     "output_type": "execute_result"
    }
   ],
   "source": [
    "m = RandomForestClassifier(n_estimators = 275, \n",
    "                               random_state = 2019,\n",
    "                               n_jobs = -1,\n",
    "                               oob_score = True,\n",
    "                               criterion = 'entropy',\n",
    "                               min_samples_leaf = 1,\n",
    "                               max_features='log2')\n",
    "m.fit(X_train,y_train)\n",
    "print_score(m)\n",
    "m.oob_score_"
   ]
  },
  {
   "cell_type": "markdown",
   "metadata": {
    "heading_collapsed": true
   },
   "source": [
    "# Feature Importance"
   ]
  },
  {
   "cell_type": "code",
   "execution_count": 50,
   "metadata": {
    "hidden": true
   },
   "outputs": [],
   "source": [
    "importances = m.feature_importances_"
   ]
  },
  {
   "cell_type": "code",
   "execution_count": 51,
   "metadata": {
    "hidden": true
   },
   "outputs": [],
   "source": [
    "std = np.std([tree.feature_importances_ for tree in model.estimators_], axis=0)"
   ]
  },
  {
   "cell_type": "code",
   "execution_count": 52,
   "metadata": {
    "hidden": true
   },
   "outputs": [],
   "source": [
    "indices = np.argsort(importances)[::-1]"
   ]
  },
  {
   "cell_type": "code",
   "execution_count": 53,
   "metadata": {
    "hidden": true
   },
   "outputs": [],
   "source": [
    "indices_labelled = []\n",
    "for i in indices:\n",
    "    indices_labelled.append(X_train.columns[i])"
   ]
  },
  {
   "cell_type": "code",
   "execution_count": 54,
   "metadata": {
    "hidden": true
   },
   "outputs": [
    {
     "data": {
      "text/plain": [
       "[('linear_acceleration_Z', 'std'),\n",
       " ('orientation_X', 'mean'),\n",
       " ('orientation_X', 'min'),\n",
       " ('orientation_X', 'max'),\n",
       " ('orientation_X', '<lambda>'),\n",
       " ('orientation_W', 'max'),\n",
       " ('orientation_Z', 'min'),\n",
       " ('orientation_Z', 'max'),\n",
       " ('orientation_Z', '<lambda>'),\n",
       " ('orientation_W', 'min'),\n",
       " ('orientation_W', '<lambda>'),\n",
       " ('orientation_W', 'mean'),\n",
       " ('linear_acceleration_Z', 'min'),\n",
       " ('orientation_Z', 'mean'),\n",
       " ('linear_acceleration_Z', 'max'),\n",
       " ('linear_acceleration_X', 'max'),\n",
       " ('orientation_Y', '<lambda>'),\n",
       " ('orientation_Y', 'max'),\n",
       " ('orientation_Y', 'min'),\n",
       " ('orientation_Y', 'mean'),\n",
       " ('linear_acceleration_X', 'min'),\n",
       " ('linear_acceleration_X', 'std'),\n",
       " ('angular_velocity_Y', 'std'),\n",
       " ('angular_velocity_X', 'std'),\n",
       " ('angular_velocity_X', 'max'),\n",
       " ('linear_acceleration_Y', 'min'),\n",
       " ('linear_acceleration_Y', 'std'),\n",
       " ('linear_acceleration_Y', 'max'),\n",
       " ('angular_velocity_X', 'min'),\n",
       " ('angular_velocity_Y', 'max'),\n",
       " ('angular_velocity_Z', 'min'),\n",
       " ('angular_velocity_Y', 'min'),\n",
       " ('orientation_Y', 'std'),\n",
       " ('orientation_X', 'std'),\n",
       " ('angular_velocity_Z', 'mean'),\n",
       " ('angular_velocity_Z', 'max'),\n",
       " ('angular_velocity_Y', 'mean'),\n",
       " ('angular_velocity_Z', '<lambda>'),\n",
       " ('orientation_W', 'std'),\n",
       " ('angular_velocity_Z', 'std'),\n",
       " ('angular_velocity_Y', '<lambda>'),\n",
       " ('orientation_Z', 'std'),\n",
       " ('linear_acceleration_Y', 'mean'),\n",
       " ('linear_acceleration_Z', 'mean'),\n",
       " ('linear_acceleration_X', 'mean'),\n",
       " ('angular_velocity_X', 'mean'),\n",
       " ('linear_acceleration_Y', '<lambda>'),\n",
       " ('angular_velocity_X', '<lambda>'),\n",
       " ('linear_acceleration_Z', '<lambda>'),\n",
       " ('linear_acceleration_X', '<lambda>'),\n",
       " ('measurement_number', '<lambda>'),\n",
       " ('measurement_number', 'std'),\n",
       " ('measurement_number', 'mean'),\n",
       " ('measurement_number', 'max'),\n",
       " ('measurement_number', 'min')]"
      ]
     },
     "execution_count": 54,
     "metadata": {},
     "output_type": "execute_result"
    }
   ],
   "source": [
    "indices_labelled"
   ]
  },
  {
   "cell_type": "code",
   "execution_count": 55,
   "metadata": {
    "hidden": true
   },
   "outputs": [
    {
     "name": "stdout",
     "output_type": "stream",
     "text": [
      "Feature ranking:\n",
      "1. feature 53 - ('linear_acceleration_Z', 'std') (0.040656)\n",
      "2. feature 7 - ('orientation_X', 'mean') (0.036027)\n",
      "3. feature 5 - ('orientation_X', 'min') (0.034300)\n",
      "4. feature 6 - ('orientation_X', 'max') (0.034020)\n",
      "5. feature 9 - ('orientation_X', '<lambda>') (0.032954)\n",
      "6. feature 21 - ('orientation_W', 'max') (0.031909)\n",
      "7. feature 15 - ('orientation_Z', 'min') (0.031341)\n",
      "8. feature 16 - ('orientation_Z', 'max') (0.031140)\n",
      "9. feature 19 - ('orientation_Z', '<lambda>') (0.031066)\n",
      "10. feature 20 - ('orientation_W', 'min') (0.030852)\n",
      "11. feature 24 - ('orientation_W', '<lambda>') (0.030337)\n",
      "12. feature 22 - ('orientation_W', 'mean') (0.029995)\n",
      "13. feature 50 - ('linear_acceleration_Z', 'min') (0.029990)\n",
      "14. feature 17 - ('orientation_Z', 'mean') (0.029960)\n",
      "15. feature 51 - ('linear_acceleration_Z', 'max') (0.028952)\n",
      "16. feature 41 - ('linear_acceleration_X', 'max') (0.028693)\n",
      "17. feature 14 - ('orientation_Y', '<lambda>') (0.028369)\n",
      "18. feature 11 - ('orientation_Y', 'max') (0.028342)\n",
      "19. feature 10 - ('orientation_Y', 'min') (0.028159)\n",
      "20. feature 12 - ('orientation_Y', 'mean') (0.026729)\n",
      "21. feature 40 - ('linear_acceleration_X', 'min') (0.025244)\n",
      "22. feature 43 - ('linear_acceleration_X', 'std') (0.024486)\n",
      "23. feature 33 - ('angular_velocity_Y', 'std') (0.023333)\n",
      "24. feature 28 - ('angular_velocity_X', 'std') (0.022778)\n",
      "25. feature 26 - ('angular_velocity_X', 'max') (0.020511)\n",
      "26. feature 45 - ('linear_acceleration_Y', 'min') (0.019369)\n",
      "27. feature 48 - ('linear_acceleration_Y', 'std') (0.017796)\n",
      "28. feature 46 - ('linear_acceleration_Y', 'max') (0.017523)\n",
      "29. feature 25 - ('angular_velocity_X', 'min') (0.016370)\n",
      "30. feature 31 - ('angular_velocity_Y', 'max') (0.014656)\n",
      "31. feature 35 - ('angular_velocity_Z', 'min') (0.013942)\n",
      "32. feature 30 - ('angular_velocity_Y', 'min') (0.013794)\n",
      "33. feature 13 - ('orientation_Y', 'std') (0.012957)\n",
      "34. feature 8 - ('orientation_X', 'std') (0.012443)\n",
      "35. feature 37 - ('angular_velocity_Z', 'mean') (0.011698)\n",
      "36. feature 36 - ('angular_velocity_Z', 'max') (0.011158)\n",
      "37. feature 32 - ('angular_velocity_Y', 'mean') (0.010943)\n",
      "38. feature 39 - ('angular_velocity_Z', '<lambda>') (0.010598)\n",
      "39. feature 23 - ('orientation_W', 'std') (0.010118)\n",
      "40. feature 38 - ('angular_velocity_Z', 'std') (0.008906)\n",
      "41. feature 34 - ('angular_velocity_Y', '<lambda>') (0.008591)\n",
      "42. feature 18 - ('orientation_Z', 'std') (0.008410)\n",
      "43. feature 47 - ('linear_acceleration_Y', 'mean') (0.007231)\n",
      "44. feature 52 - ('linear_acceleration_Z', 'mean') (0.006662)\n",
      "45. feature 42 - ('linear_acceleration_X', 'mean') (0.005827)\n",
      "46. feature 27 - ('angular_velocity_X', 'mean') (0.005250)\n",
      "47. feature 49 - ('linear_acceleration_Y', '<lambda>') (0.004516)\n",
      "48. feature 29 - ('angular_velocity_X', '<lambda>') (0.003837)\n",
      "49. feature 54 - ('linear_acceleration_Z', '<lambda>') (0.003641)\n",
      "50. feature 44 - ('linear_acceleration_X', '<lambda>') (0.003621)\n",
      "51. feature 4 - ('measurement_number', '<lambda>') (0.000000)\n",
      "52. feature 3 - ('measurement_number', 'std') (0.000000)\n",
      "53. feature 2 - ('measurement_number', 'mean') (0.000000)\n",
      "54. feature 1 - ('measurement_number', 'max') (0.000000)\n",
      "55. feature 0 - ('measurement_number', 'min') (0.000000)\n"
     ]
    }
   ],
   "source": [
    "print(\"Feature ranking:\")\n",
    "\n",
    "for f in range(X_train.shape[1]):\n",
    "    print(\"%d. feature %d - %s (%f)\" % (f + 1, indices[f], indices_labelled[f], importances[indices[f]]))"
   ]
  },
  {
   "cell_type": "code",
   "execution_count": 56,
   "metadata": {
    "hidden": true
   },
   "outputs": [
    {
     "data": {
      "image/png": "[encoded data removed]",
      "text/plain": [
       "<Figure size 432x288 with 1 Axes>"
      ]
     },
     "metadata": {
      "needs_background": "light"
     },
     "output_type": "display_data"
    }
   ],
   "source": [
    "plt.figure()\n",
    "plt.title(\"Feature importances\")\n",
    "plt.bar(range(X_train.shape[1]), importances[indices],\n",
    "       color=\"pink\", yerr=std[indices], align=\"center\")\n",
    "plt.xticks(range(X_train.shape[1]), indices)\n",
    "plt.xlim([-1, X_train.shape[1]])\n",
    "plt.show()"
   ]
  },
  {
   "cell_type": "markdown",
   "metadata": {
    "hidden": true
   },
   "source": [
    "## Waterfall"
   ]
  },
  {
   "cell_type": "markdown",
   "metadata": {
    "hidden": true
   },
   "source": [
    "Later"
   ]
  },
  {
   "cell_type": "markdown",
   "metadata": {},
   "source": [
    "# Predictions"
   ]
  },
  {
   "cell_type": "markdown",
   "metadata": {},
   "source": [
    "Final Model"
   ]
  },
  {
   "cell_type": "code",
   "execution_count": 66,
   "metadata": {},
   "outputs": [
    {
     "data": {
      "text/plain": [
       "RandomForestClassifier(bootstrap=True, class_weight=None, criterion='entropy',\n",
       "            max_depth=None, max_features='log2', max_leaf_nodes=None,\n",
       "            min_impurity_decrease=0.0, min_impurity_split=None,\n",
       "            min_samples_leaf=1, min_samples_split=2,\n",
       "            min_weight_fraction_leaf=0.0, n_estimators=275, n_jobs=-1,\n",
       "            oob_score=True, random_state=2019, verbose=0, warm_start=False)"
      ]
     },
     "execution_count": 66,
     "metadata": {},
     "output_type": "execute_result"
    }
   ],
   "source": [
    "m = RandomForestClassifier(n_estimators = 275, \n",
    "                               random_state = 2019,\n",
    "                               n_jobs = -1,\n",
    "                               oob_score = True,\n",
    "                               criterion = 'entropy',\n",
    "                               min_samples_leaf = 1,\n",
    "                               max_features='log2')\n",
    "m.fit(train_features, y)"
   ]
  },
  {
   "cell_type": "code",
   "execution_count": 64,
   "metadata": {},
   "outputs": [],
   "source": [
    "test_features = prep_time_series_features(test_values)"
   ]
  },
  {
   "cell_type": "code",
   "execution_count": 67,
   "metadata": {},
   "outputs": [],
   "source": [
    "preds = m.predict(test_features)"
   ]
  },
  {
   "cell_type": "markdown",
   "metadata": {},
   "source": [
    "## Submission"
   ]
  },
  {
   "cell_type": "code",
   "execution_count": 71,
   "metadata": {},
   "outputs": [
    {
     "name": "stdout",
     "output_type": "stream",
     "text": [
      "sample_submission.csv  X_test.csv      X_train.csv\ty_train.csv\r\n",
      "train.csv\t       X_test.csv.zip  X_train.csv.zip\r\n"
     ]
    }
   ],
   "source": [
    "!ls 'data'"
   ]
  },
  {
   "cell_type": "code",
   "execution_count": 72,
   "metadata": {},
   "outputs": [],
   "source": [
    "submission = pd.read_csv('data/sample_submission.csv', index_col=0)"
   ]
  },
  {
   "cell_type": "code",
   "execution_count": 73,
   "metadata": {},
   "outputs": [
    {
     "data": {
      "text/html": [
       "<div>\n",
       "<style scoped>\n",
       "    .dataframe tbody tr th:only-of-type {\n",
       "        vertical-align: middle;\n",
       "    }\n",
       "\n",
       "    .dataframe tbody tr th {\n",
       "        vertical-align: top;\n",
       "    }\n",
       "\n",
       "    .dataframe thead th {\n",
       "        text-align: right;\n",
       "    }\n",
       "</style>\n",
       "<table border=\"1\" class=\"dataframe\">\n",
       "  <thead>\n",
       "    <tr style=\"text-align: right;\">\n",
       "      <th></th>\n",
       "      <th>surface</th>\n",
       "    </tr>\n",
       "    <tr>\n",
       "      <th>series_id</th>\n",
       "      <th></th>\n",
       "    </tr>\n",
       "  </thead>\n",
       "  <tbody>\n",
       "    <tr>\n",
       "      <th>0</th>\n",
       "      <td>concrete</td>\n",
       "    </tr>\n",
       "    <tr>\n",
       "      <th>1</th>\n",
       "      <td>concrete</td>\n",
       "    </tr>\n",
       "  </tbody>\n",
       "</table>\n",
       "</div>"
      ],
      "text/plain": [
       "            surface\n",
       "series_id          \n",
       "0          concrete\n",
       "1          concrete"
      ]
     },
     "execution_count": 73,
     "metadata": {},
     "output_type": "execute_result"
    }
   ],
   "source": [
    "submission.head(2)"
   ]
  },
  {
   "cell_type": "code",
   "execution_count": 74,
   "metadata": {},
   "outputs": [],
   "source": [
    "submission['surface'] = preds"
   ]
  },
  {
   "cell_type": "code",
   "execution_count": 75,
   "metadata": {},
   "outputs": [
    {
     "data": {
      "text/html": [
       "<div>\n",
       "<style scoped>\n",
       "    .dataframe tbody tr th:only-of-type {\n",
       "        vertical-align: middle;\n",
       "    }\n",
       "\n",
       "    .dataframe tbody tr th {\n",
       "        vertical-align: top;\n",
       "    }\n",
       "\n",
       "    .dataframe thead th {\n",
       "        text-align: right;\n",
       "    }\n",
       "</style>\n",
       "<table border=\"1\" class=\"dataframe\">\n",
       "  <thead>\n",
       "    <tr style=\"text-align: right;\">\n",
       "      <th></th>\n",
       "      <th>surface</th>\n",
       "    </tr>\n",
       "    <tr>\n",
       "      <th>series_id</th>\n",
       "      <th></th>\n",
       "    </tr>\n",
       "  </thead>\n",
       "  <tbody>\n",
       "    <tr>\n",
       "      <th>0</th>\n",
       "      <td>hard_tiles_large_space</td>\n",
       "    </tr>\n",
       "    <tr>\n",
       "      <th>1</th>\n",
       "      <td>carpet</td>\n",
       "    </tr>\n",
       "    <tr>\n",
       "      <th>2</th>\n",
       "      <td>tiled</td>\n",
       "    </tr>\n",
       "    <tr>\n",
       "      <th>3</th>\n",
       "      <td>carpet</td>\n",
       "    </tr>\n",
       "    <tr>\n",
       "      <th>4</th>\n",
       "      <td>soft_pvc</td>\n",
       "    </tr>\n",
       "    <tr>\n",
       "      <th>5</th>\n",
       "      <td>concrete</td>\n",
       "    </tr>\n",
       "    <tr>\n",
       "      <th>6</th>\n",
       "      <td>concrete</td>\n",
       "    </tr>\n",
       "    <tr>\n",
       "      <th>7</th>\n",
       "      <td>concrete</td>\n",
       "    </tr>\n",
       "    <tr>\n",
       "      <th>8</th>\n",
       "      <td>wood</td>\n",
       "    </tr>\n",
       "    <tr>\n",
       "      <th>9</th>\n",
       "      <td>wood</td>\n",
       "    </tr>\n",
       "  </tbody>\n",
       "</table>\n",
       "</div>"
      ],
      "text/plain": [
       "                          surface\n",
       "series_id                        \n",
       "0          hard_tiles_large_space\n",
       "1                          carpet\n",
       "2                           tiled\n",
       "3                          carpet\n",
       "4                        soft_pvc\n",
       "5                        concrete\n",
       "6                        concrete\n",
       "7                        concrete\n",
       "8                            wood\n",
       "9                            wood"
      ]
     },
     "execution_count": 75,
     "metadata": {},
     "output_type": "execute_result"
    }
   ],
   "source": [
    "submission.head(10)"
   ]
  },
  {
   "cell_type": "code",
   "execution_count": 76,
   "metadata": {},
   "outputs": [],
   "source": [
    "submission.to_csv('Help_Robots_Submission.csv')"
   ]
  },
  {
   "cell_type": "code",
   "execution_count": null,
   "metadata": {},
   "outputs": [],
   "source": []
  }
 ],
 "metadata": {
  "kernelspec": {
   "display_name": "Python 3",
   "language": "python",
   "name": "python3"
  },
  "language_info": {
   "codemirror_mode": {
    "name": "ipython",
    "version": 3
   },
   "file_extension": ".py",
   "mimetype": "text/x-python",
   "name": "python",
   "nbconvert_exporter": "python",
   "pygments_lexer": "ipython3",
   "version": "3.6.5"
  }
 },
 "nbformat": 4,
 "nbformat_minor": 2
}
